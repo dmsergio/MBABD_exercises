{
 "cells": [
  {
   "cell_type": "markdown",
   "metadata": {},
   "source": [
    "### A"
   ]
  },
  {
   "cell_type": "code",
   "execution_count": 1,
   "metadata": {},
   "outputs": [],
   "source": [
    "X <- c(1,2,3,1,4,5,2)\n",
    "Y <- c(0,3,2,0,5,9,3)"
   ]
  },
  {
   "cell_type": "markdown",
   "metadata": {},
   "source": [
    "#### Crea un dataframe a partir de los vectores anteriores"
   ]
  },
  {
   "cell_type": "code",
   "execution_count": 5,
   "metadata": {},
   "outputs": [
    {
     "data": {
      "text/html": [
       "<table>\n",
       "<caption>A data.frame: 7 × 2</caption>\n",
       "<thead>\n",
       "\t<tr><th scope=col>X</th><th scope=col>Y</th></tr>\n",
       "\t<tr><th scope=col>&lt;dbl&gt;</th><th scope=col>&lt;dbl&gt;</th></tr>\n",
       "</thead>\n",
       "<tbody>\n",
       "\t<tr><td>1</td><td>0</td></tr>\n",
       "\t<tr><td>2</td><td>3</td></tr>\n",
       "\t<tr><td>3</td><td>2</td></tr>\n",
       "\t<tr><td>1</td><td>0</td></tr>\n",
       "\t<tr><td>4</td><td>5</td></tr>\n",
       "\t<tr><td>5</td><td>9</td></tr>\n",
       "\t<tr><td>2</td><td>3</td></tr>\n",
       "</tbody>\n",
       "</table>\n"
      ],
      "text/latex": [
       "A data.frame: 7 × 2\n",
       "\\begin{tabular}{r|ll}\n",
       " X & Y\\\\\n",
       " <dbl> & <dbl>\\\\\n",
       "\\hline\n",
       "\t 1 & 0\\\\\n",
       "\t 2 & 3\\\\\n",
       "\t 3 & 2\\\\\n",
       "\t 1 & 0\\\\\n",
       "\t 4 & 5\\\\\n",
       "\t 5 & 9\\\\\n",
       "\t 2 & 3\\\\\n",
       "\\end{tabular}\n"
      ],
      "text/markdown": [
       "\n",
       "A data.frame: 7 × 2\n",
       "\n",
       "| X &lt;dbl&gt; | Y &lt;dbl&gt; |\n",
       "|---|---|\n",
       "| 1 | 0 |\n",
       "| 2 | 3 |\n",
       "| 3 | 2 |\n",
       "| 1 | 0 |\n",
       "| 4 | 5 |\n",
       "| 5 | 9 |\n",
       "| 2 | 3 |\n",
       "\n"
      ],
      "text/plain": [
       "  X Y\n",
       "1 1 0\n",
       "2 2 3\n",
       "3 3 2\n",
       "4 1 0\n",
       "5 4 5\n",
       "6 5 9\n",
       "7 2 3"
      ]
     },
     "metadata": {},
     "output_type": "display_data"
    }
   ],
   "source": [
    "df <- data.frame(X, Y)\n",
    "df"
   ]
  },
  {
   "cell_type": "markdown",
   "metadata": {},
   "source": [
    "#### Elimina los duplicados usando una función de R adecuada"
   ]
  },
  {
   "cell_type": "code",
   "execution_count": 7,
   "metadata": {},
   "outputs": [
    {
     "data": {
      "text/html": [
       "<table>\n",
       "<caption>A data.frame: 5 × 2</caption>\n",
       "<thead>\n",
       "\t<tr><th></th><th scope=col>X</th><th scope=col>Y</th></tr>\n",
       "\t<tr><th></th><th scope=col>&lt;dbl&gt;</th><th scope=col>&lt;dbl&gt;</th></tr>\n",
       "</thead>\n",
       "<tbody>\n",
       "\t<tr><th scope=row>1</th><td>1</td><td>0</td></tr>\n",
       "\t<tr><th scope=row>2</th><td>2</td><td>3</td></tr>\n",
       "\t<tr><th scope=row>3</th><td>3</td><td>2</td></tr>\n",
       "\t<tr><th scope=row>5</th><td>4</td><td>5</td></tr>\n",
       "\t<tr><th scope=row>6</th><td>5</td><td>9</td></tr>\n",
       "</tbody>\n",
       "</table>\n"
      ],
      "text/latex": [
       "A data.frame: 5 × 2\n",
       "\\begin{tabular}{r|ll}\n",
       "  & X & Y\\\\\n",
       "  & <dbl> & <dbl>\\\\\n",
       "\\hline\n",
       "\t1 & 1 & 0\\\\\n",
       "\t2 & 2 & 3\\\\\n",
       "\t3 & 3 & 2\\\\\n",
       "\t5 & 4 & 5\\\\\n",
       "\t6 & 5 & 9\\\\\n",
       "\\end{tabular}\n"
      ],
      "text/markdown": [
       "\n",
       "A data.frame: 5 × 2\n",
       "\n",
       "| <!--/--> | X &lt;dbl&gt; | Y &lt;dbl&gt; |\n",
       "|---|---|---|\n",
       "| 1 | 1 | 0 |\n",
       "| 2 | 2 | 3 |\n",
       "| 3 | 3 | 2 |\n",
       "| 5 | 4 | 5 |\n",
       "| 6 | 5 | 9 |\n",
       "\n"
      ],
      "text/plain": [
       "  X Y\n",
       "1 1 0\n",
       "2 2 3\n",
       "3 3 2\n",
       "5 4 5\n",
       "6 5 9"
      ]
     },
     "metadata": {},
     "output_type": "display_data"
    }
   ],
   "source": [
    "df <- unique(df)\n",
    "df"
   ]
  },
  {
   "cell_type": "markdown",
   "metadata": {},
   "source": [
    "#### Pon nombre a las filas con nombres \"CA\",\"SE\",\"MA\",\"BA\",\"VA\""
   ]
  },
  {
   "cell_type": "code",
   "execution_count": 8,
   "metadata": {},
   "outputs": [
    {
     "data": {
      "text/html": [
       "<table>\n",
       "<caption>A data.frame: 5 × 2</caption>\n",
       "<thead>\n",
       "\t<tr><th></th><th scope=col>X</th><th scope=col>Y</th></tr>\n",
       "\t<tr><th></th><th scope=col>&lt;dbl&gt;</th><th scope=col>&lt;dbl&gt;</th></tr>\n",
       "</thead>\n",
       "<tbody>\n",
       "\t<tr><th scope=row>CA</th><td>1</td><td>0</td></tr>\n",
       "\t<tr><th scope=row>SE</th><td>2</td><td>3</td></tr>\n",
       "\t<tr><th scope=row>MA</th><td>3</td><td>2</td></tr>\n",
       "\t<tr><th scope=row>BA</th><td>4</td><td>5</td></tr>\n",
       "\t<tr><th scope=row>VA</th><td>5</td><td>9</td></tr>\n",
       "</tbody>\n",
       "</table>\n"
      ],
      "text/latex": [
       "A data.frame: 5 × 2\n",
       "\\begin{tabular}{r|ll}\n",
       "  & X & Y\\\\\n",
       "  & <dbl> & <dbl>\\\\\n",
       "\\hline\n",
       "\tCA & 1 & 0\\\\\n",
       "\tSE & 2 & 3\\\\\n",
       "\tMA & 3 & 2\\\\\n",
       "\tBA & 4 & 5\\\\\n",
       "\tVA & 5 & 9\\\\\n",
       "\\end{tabular}\n"
      ],
      "text/markdown": [
       "\n",
       "A data.frame: 5 × 2\n",
       "\n",
       "| <!--/--> | X &lt;dbl&gt; | Y &lt;dbl&gt; |\n",
       "|---|---|---|\n",
       "| CA | 1 | 0 |\n",
       "| SE | 2 | 3 |\n",
       "| MA | 3 | 2 |\n",
       "| BA | 4 | 5 |\n",
       "| VA | 5 | 9 |\n",
       "\n"
      ],
      "text/plain": [
       "   X Y\n",
       "CA 1 0\n",
       "SE 2 3\n",
       "MA 3 2\n",
       "BA 4 5\n",
       "VA 5 9"
      ]
     },
     "metadata": {},
     "output_type": "display_data"
    }
   ],
   "source": [
    "rownames(df) <- c(\"CA\", \"SE\", \"MA\", \"BA\", \"VA\")\n",
    "df"
   ]
  },
  {
   "cell_type": "markdown",
   "metadata": {},
   "source": [
    "#### Crea una nueva columna Z que sea la suma de las dos primeras dividida por la primera"
   ]
  },
  {
   "cell_type": "code",
   "execution_count": 9,
   "metadata": {},
   "outputs": [
    {
     "data": {
      "text/html": [
       "<table>\n",
       "<caption>A data.frame: 5 × 3</caption>\n",
       "<thead>\n",
       "\t<tr><th></th><th scope=col>X</th><th scope=col>Y</th><th scope=col>Z</th></tr>\n",
       "\t<tr><th></th><th scope=col>&lt;dbl&gt;</th><th scope=col>&lt;dbl&gt;</th><th scope=col>&lt;dbl&gt;</th></tr>\n",
       "</thead>\n",
       "<tbody>\n",
       "\t<tr><th scope=row>CA</th><td>1</td><td>0</td><td>1.000000</td></tr>\n",
       "\t<tr><th scope=row>SE</th><td>2</td><td>3</td><td>2.500000</td></tr>\n",
       "\t<tr><th scope=row>MA</th><td>3</td><td>2</td><td>1.666667</td></tr>\n",
       "\t<tr><th scope=row>BA</th><td>4</td><td>5</td><td>2.250000</td></tr>\n",
       "\t<tr><th scope=row>VA</th><td>5</td><td>9</td><td>2.800000</td></tr>\n",
       "</tbody>\n",
       "</table>\n"
      ],
      "text/latex": [
       "A data.frame: 5 × 3\n",
       "\\begin{tabular}{r|lll}\n",
       "  & X & Y & Z\\\\\n",
       "  & <dbl> & <dbl> & <dbl>\\\\\n",
       "\\hline\n",
       "\tCA & 1 & 0 & 1.000000\\\\\n",
       "\tSE & 2 & 3 & 2.500000\\\\\n",
       "\tMA & 3 & 2 & 1.666667\\\\\n",
       "\tBA & 4 & 5 & 2.250000\\\\\n",
       "\tVA & 5 & 9 & 2.800000\\\\\n",
       "\\end{tabular}\n"
      ],
      "text/markdown": [
       "\n",
       "A data.frame: 5 × 3\n",
       "\n",
       "| <!--/--> | X &lt;dbl&gt; | Y &lt;dbl&gt; | Z &lt;dbl&gt; |\n",
       "|---|---|---|---|\n",
       "| CA | 1 | 0 | 1.000000 |\n",
       "| SE | 2 | 3 | 2.500000 |\n",
       "| MA | 3 | 2 | 1.666667 |\n",
       "| BA | 4 | 5 | 2.250000 |\n",
       "| VA | 5 | 9 | 2.800000 |\n",
       "\n"
      ],
      "text/plain": [
       "   X Y Z       \n",
       "CA 1 0 1.000000\n",
       "SE 2 3 2.500000\n",
       "MA 3 2 1.666667\n",
       "BA 4 5 2.250000\n",
       "VA 5 9 2.800000"
      ]
     },
     "metadata": {},
     "output_type": "display_data"
    }
   ],
   "source": [
    "df$Z <- (df$X + df$Y) / df$X\n",
    "df"
   ]
  },
  {
   "cell_type": "markdown",
   "metadata": {},
   "source": [
    "#### Cambia el valor X de la provincia BA por 2"
   ]
  },
  {
   "cell_type": "code",
   "execution_count": 36,
   "metadata": {},
   "outputs": [
    {
     "data": {
      "text/html": [
       "<table>\n",
       "<caption>A data.frame: 5 × 3</caption>\n",
       "<thead>\n",
       "\t<tr><th></th><th scope=col>X</th><th scope=col>Y</th><th scope=col>Z</th></tr>\n",
       "\t<tr><th></th><th scope=col>&lt;dbl&gt;</th><th scope=col>&lt;dbl&gt;</th><th scope=col>&lt;dbl&gt;</th></tr>\n",
       "</thead>\n",
       "<tbody>\n",
       "\t<tr><th scope=row>CA</th><td>1</td><td>0</td><td>1.000000</td></tr>\n",
       "\t<tr><th scope=row>SE</th><td>2</td><td>3</td><td>2.500000</td></tr>\n",
       "\t<tr><th scope=row>MA</th><td>3</td><td>2</td><td>1.666667</td></tr>\n",
       "\t<tr><th scope=row>BA</th><td>2</td><td>5</td><td>2.250000</td></tr>\n",
       "\t<tr><th scope=row>VA</th><td>5</td><td>9</td><td>2.800000</td></tr>\n",
       "</tbody>\n",
       "</table>\n"
      ],
      "text/latex": [
       "A data.frame: 5 × 3\n",
       "\\begin{tabular}{r|lll}\n",
       "  & X & Y & Z\\\\\n",
       "  & <dbl> & <dbl> & <dbl>\\\\\n",
       "\\hline\n",
       "\tCA & 1 & 0 & 1.000000\\\\\n",
       "\tSE & 2 & 3 & 2.500000\\\\\n",
       "\tMA & 3 & 2 & 1.666667\\\\\n",
       "\tBA & 2 & 5 & 2.250000\\\\\n",
       "\tVA & 5 & 9 & 2.800000\\\\\n",
       "\\end{tabular}\n"
      ],
      "text/markdown": [
       "\n",
       "A data.frame: 5 × 3\n",
       "\n",
       "| <!--/--> | X &lt;dbl&gt; | Y &lt;dbl&gt; | Z &lt;dbl&gt; |\n",
       "|---|---|---|---|\n",
       "| CA | 1 | 0 | 1.000000 |\n",
       "| SE | 2 | 3 | 2.500000 |\n",
       "| MA | 3 | 2 | 1.666667 |\n",
       "| BA | 2 | 5 | 2.250000 |\n",
       "| VA | 5 | 9 | 2.800000 |\n",
       "\n"
      ],
      "text/plain": [
       "   X Y Z       \n",
       "CA 1 0 1.000000\n",
       "SE 2 3 2.500000\n",
       "MA 3 2 1.666667\n",
       "BA 2 5 2.250000\n",
       "VA 5 9 2.800000"
      ]
     },
     "metadata": {},
     "output_type": "display_data"
    }
   ],
   "source": [
    "df['BA', 'X'] <- 2\n",
    "df"
   ]
  },
  {
   "cell_type": "markdown",
   "metadata": {},
   "source": [
    "#### Selecciona aquellas provincias cuyo valor Y sea menor que 4"
   ]
  },
  {
   "cell_type": "code",
   "execution_count": 48,
   "metadata": {},
   "outputs": [
    {
     "data": {
      "text/html": [
       "<ol class=list-inline>\n",
       "\t<li>'CA'</li>\n",
       "\t<li>'SE'</li>\n",
       "\t<li>'MA'</li>\n",
       "</ol>\n"
      ],
      "text/latex": [
       "\\begin{enumerate*}\n",
       "\\item 'CA'\n",
       "\\item 'SE'\n",
       "\\item 'MA'\n",
       "\\end{enumerate*}\n"
      ],
      "text/markdown": [
       "1. 'CA'\n",
       "2. 'SE'\n",
       "3. 'MA'\n",
       "\n",
       "\n"
      ],
      "text/plain": [
       "[1] \"CA\" \"SE\" \"MA\""
      ]
     },
     "metadata": {},
     "output_type": "display_data"
    }
   ],
   "source": [
    "row.names(df[df$Y < 4,])"
   ]
  },
  {
   "cell_type": "markdown",
   "metadata": {},
   "source": [
    "#### Crea un factor que indique si es costera o no la ciudad (C o I) y añádelo como columna"
   ]
  },
  {
   "cell_type": "code",
   "execution_count": 49,
   "metadata": {},
   "outputs": [
    {
     "data": {
      "text/html": [
       "<table>\n",
       "<caption>A data.frame: 5 × 4</caption>\n",
       "<thead>\n",
       "\t<tr><th></th><th scope=col>X</th><th scope=col>Y</th><th scope=col>Z</th><th scope=col>cost</th></tr>\n",
       "\t<tr><th></th><th scope=col>&lt;dbl&gt;</th><th scope=col>&lt;dbl&gt;</th><th scope=col>&lt;dbl&gt;</th><th scope=col>&lt;fct&gt;</th></tr>\n",
       "</thead>\n",
       "<tbody>\n",
       "\t<tr><th scope=row>CA</th><td>1</td><td>0</td><td>1.000000</td><td>C</td></tr>\n",
       "\t<tr><th scope=row>SE</th><td>2</td><td>3</td><td>2.500000</td><td>I</td></tr>\n",
       "\t<tr><th scope=row>MA</th><td>3</td><td>2</td><td>1.666667</td><td>I</td></tr>\n",
       "\t<tr><th scope=row>BA</th><td>2</td><td>5</td><td>2.250000</td><td>C</td></tr>\n",
       "\t<tr><th scope=row>VA</th><td>5</td><td>9</td><td>2.800000</td><td>C</td></tr>\n",
       "</tbody>\n",
       "</table>\n"
      ],
      "text/latex": [
       "A data.frame: 5 × 4\n",
       "\\begin{tabular}{r|llll}\n",
       "  & X & Y & Z & cost\\\\\n",
       "  & <dbl> & <dbl> & <dbl> & <fct>\\\\\n",
       "\\hline\n",
       "\tCA & 1 & 0 & 1.000000 & C\\\\\n",
       "\tSE & 2 & 3 & 2.500000 & I\\\\\n",
       "\tMA & 3 & 2 & 1.666667 & I\\\\\n",
       "\tBA & 2 & 5 & 2.250000 & C\\\\\n",
       "\tVA & 5 & 9 & 2.800000 & C\\\\\n",
       "\\end{tabular}\n"
      ],
      "text/markdown": [
       "\n",
       "A data.frame: 5 × 4\n",
       "\n",
       "| <!--/--> | X &lt;dbl&gt; | Y &lt;dbl&gt; | Z &lt;dbl&gt; | cost &lt;fct&gt; |\n",
       "|---|---|---|---|---|\n",
       "| CA | 1 | 0 | 1.000000 | C |\n",
       "| SE | 2 | 3 | 2.500000 | I |\n",
       "| MA | 3 | 2 | 1.666667 | I |\n",
       "| BA | 2 | 5 | 2.250000 | C |\n",
       "| VA | 5 | 9 | 2.800000 | C |\n",
       "\n"
      ],
      "text/plain": [
       "   X Y Z        cost\n",
       "CA 1 0 1.000000 C   \n",
       "SE 2 3 2.500000 I   \n",
       "MA 3 2 1.666667 I   \n",
       "BA 2 5 2.250000 C   \n",
       "VA 5 9 2.800000 C   "
      ]
     },
     "metadata": {},
     "output_type": "display_data"
    }
   ],
   "source": [
    "df$cost <- factor(c(\"C\",\"I\",\"I\",\"C\",\"C\"))\n",
    "df"
   ]
  }
 ],
 "metadata": {
  "kernelspec": {
   "display_name": "R",
   "language": "R",
   "name": "ir"
  },
  "language_info": {
   "codemirror_mode": "r",
   "file_extension": ".r",
   "mimetype": "text/x-r-source",
   "name": "R",
   "pygments_lexer": "r",
   "version": "3.4.4"
  }
 },
 "nbformat": 4,
 "nbformat_minor": 2
}
