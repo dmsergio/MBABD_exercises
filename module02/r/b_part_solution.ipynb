{
 "cells": [
  {
   "cell_type": "markdown",
   "metadata": {},
   "source": [
    "### B"
   ]
  },
  {
   "cell_type": "markdown",
   "metadata": {},
   "source": [
    "#### Carga el dataset en la url http://archive.ics.uci.edu/ml/machine-learning-databases/autos/imports-85.data indicando que los valores faltantes son \"?\""
   ]
  },
  {
   "cell_type": "code",
   "execution_count": 23,
   "metadata": {},
   "outputs": [
    {
     "data": {
      "text/html": [
       "<table>\n",
       "<caption>A data.frame: 6 × 26</caption>\n",
       "<thead>\n",
       "\t<tr><th scope=col>V1</th><th scope=col>V2</th><th scope=col>V3</th><th scope=col>V4</th><th scope=col>V5</th><th scope=col>V6</th><th scope=col>V7</th><th scope=col>V8</th><th scope=col>V9</th><th scope=col>V10</th><th scope=col>⋯</th><th scope=col>V17</th><th scope=col>V18</th><th scope=col>V19</th><th scope=col>V20</th><th scope=col>V21</th><th scope=col>V22</th><th scope=col>V23</th><th scope=col>V24</th><th scope=col>V25</th><th scope=col>V26</th></tr>\n",
       "\t<tr><th scope=col>&lt;int&gt;</th><th scope=col>&lt;int&gt;</th><th scope=col>&lt;fct&gt;</th><th scope=col>&lt;fct&gt;</th><th scope=col>&lt;fct&gt;</th><th scope=col>&lt;fct&gt;</th><th scope=col>&lt;fct&gt;</th><th scope=col>&lt;fct&gt;</th><th scope=col>&lt;fct&gt;</th><th scope=col>&lt;dbl&gt;</th><th scope=col>⋯</th><th scope=col>&lt;int&gt;</th><th scope=col>&lt;fct&gt;</th><th scope=col>&lt;dbl&gt;</th><th scope=col>&lt;dbl&gt;</th><th scope=col>&lt;dbl&gt;</th><th scope=col>&lt;int&gt;</th><th scope=col>&lt;int&gt;</th><th scope=col>&lt;int&gt;</th><th scope=col>&lt;int&gt;</th><th scope=col>&lt;int&gt;</th></tr>\n",
       "</thead>\n",
       "<tbody>\n",
       "\t<tr><td>3</td><td> NA</td><td>alfa-romero</td><td>gas</td><td>std</td><td>two </td><td>convertible</td><td>rwd</td><td>front</td><td>88.6</td><td>⋯</td><td>130</td><td>mpfi</td><td>3.47</td><td>2.68</td><td> 9.0</td><td>111</td><td>5000</td><td>21</td><td>27</td><td>13495</td></tr>\n",
       "\t<tr><td>3</td><td> NA</td><td>alfa-romero</td><td>gas</td><td>std</td><td>two </td><td>convertible</td><td>rwd</td><td>front</td><td>88.6</td><td>⋯</td><td>130</td><td>mpfi</td><td>3.47</td><td>2.68</td><td> 9.0</td><td>111</td><td>5000</td><td>21</td><td>27</td><td>16500</td></tr>\n",
       "\t<tr><td>1</td><td> NA</td><td>alfa-romero</td><td>gas</td><td>std</td><td>two </td><td>hatchback  </td><td>rwd</td><td>front</td><td>94.5</td><td>⋯</td><td>152</td><td>mpfi</td><td>2.68</td><td>3.47</td><td> 9.0</td><td>154</td><td>5000</td><td>19</td><td>26</td><td>16500</td></tr>\n",
       "\t<tr><td>2</td><td>164</td><td>audi       </td><td>gas</td><td>std</td><td>four</td><td>sedan      </td><td>fwd</td><td>front</td><td>99.8</td><td>⋯</td><td>109</td><td>mpfi</td><td>3.19</td><td>3.40</td><td>10.0</td><td>102</td><td>5500</td><td>24</td><td>30</td><td>13950</td></tr>\n",
       "\t<tr><td>2</td><td>164</td><td>audi       </td><td>gas</td><td>std</td><td>four</td><td>sedan      </td><td>4wd</td><td>front</td><td>99.4</td><td>⋯</td><td>136</td><td>mpfi</td><td>3.19</td><td>3.40</td><td> 8.0</td><td>115</td><td>5500</td><td>18</td><td>22</td><td>17450</td></tr>\n",
       "\t<tr><td>2</td><td> NA</td><td>audi       </td><td>gas</td><td>std</td><td>two </td><td>sedan      </td><td>fwd</td><td>front</td><td>99.8</td><td>⋯</td><td>136</td><td>mpfi</td><td>3.19</td><td>3.40</td><td> 8.5</td><td>110</td><td>5500</td><td>19</td><td>25</td><td>15250</td></tr>\n",
       "</tbody>\n",
       "</table>\n"
      ],
      "text/latex": [
       "A data.frame: 6 × 26\n",
       "\\begin{tabular}{r|llllllllllllllllllllllllll}\n",
       " V1 & V2 & V3 & V4 & V5 & V6 & V7 & V8 & V9 & V10 & V11 & V12 & V13 & V14 & V15 & V16 & V17 & V18 & V19 & V20 & V21 & V22 & V23 & V24 & V25 & V26\\\\\n",
       " <int> & <int> & <fct> & <fct> & <fct> & <fct> & <fct> & <fct> & <fct> & <dbl> & <dbl> & <dbl> & <dbl> & <int> & <fct> & <fct> & <int> & <fct> & <dbl> & <dbl> & <dbl> & <int> & <int> & <int> & <int> & <int>\\\\\n",
       "\\hline\n",
       "\t 3 &  NA & alfa-romero & gas & std & two  & convertible & rwd & front & 88.6 & 168.8 & 64.1 & 48.8 & 2548 & dohc & four & 130 & mpfi & 3.47 & 2.68 &  9.0 & 111 & 5000 & 21 & 27 & 13495\\\\\n",
       "\t 3 &  NA & alfa-romero & gas & std & two  & convertible & rwd & front & 88.6 & 168.8 & 64.1 & 48.8 & 2548 & dohc & four & 130 & mpfi & 3.47 & 2.68 &  9.0 & 111 & 5000 & 21 & 27 & 16500\\\\\n",
       "\t 1 &  NA & alfa-romero & gas & std & two  & hatchback   & rwd & front & 94.5 & 171.2 & 65.5 & 52.4 & 2823 & ohcv & six  & 152 & mpfi & 2.68 & 3.47 &  9.0 & 154 & 5000 & 19 & 26 & 16500\\\\\n",
       "\t 2 & 164 & audi        & gas & std & four & sedan       & fwd & front & 99.8 & 176.6 & 66.2 & 54.3 & 2337 & ohc  & four & 109 & mpfi & 3.19 & 3.40 & 10.0 & 102 & 5500 & 24 & 30 & 13950\\\\\n",
       "\t 2 & 164 & audi        & gas & std & four & sedan       & 4wd & front & 99.4 & 176.6 & 66.4 & 54.3 & 2824 & ohc  & five & 136 & mpfi & 3.19 & 3.40 &  8.0 & 115 & 5500 & 18 & 22 & 17450\\\\\n",
       "\t 2 &  NA & audi        & gas & std & two  & sedan       & fwd & front & 99.8 & 177.3 & 66.3 & 53.1 & 2507 & ohc  & five & 136 & mpfi & 3.19 & 3.40 &  8.5 & 110 & 5500 & 19 & 25 & 15250\\\\\n",
       "\\end{tabular}\n"
      ],
      "text/markdown": [
       "\n",
       "A data.frame: 6 × 26\n",
       "\n",
       "| V1 &lt;int&gt; | V2 &lt;int&gt; | V3 &lt;fct&gt; | V4 &lt;fct&gt; | V5 &lt;fct&gt; | V6 &lt;fct&gt; | V7 &lt;fct&gt; | V8 &lt;fct&gt; | V9 &lt;fct&gt; | V10 &lt;dbl&gt; | ⋯ ⋯ | V17 &lt;int&gt; | V18 &lt;fct&gt; | V19 &lt;dbl&gt; | V20 &lt;dbl&gt; | V21 &lt;dbl&gt; | V22 &lt;int&gt; | V23 &lt;int&gt; | V24 &lt;int&gt; | V25 &lt;int&gt; | V26 &lt;int&gt; |\n",
       "|---|---|---|---|---|---|---|---|---|---|---|---|---|---|---|---|---|---|---|---|---|\n",
       "| 3 |  NA | alfa-romero | gas | std | two  | convertible | rwd | front | 88.6 | ⋯ | 130 | mpfi | 3.47 | 2.68 |  9.0 | 111 | 5000 | 21 | 27 | 13495 |\n",
       "| 3 |  NA | alfa-romero | gas | std | two  | convertible | rwd | front | 88.6 | ⋯ | 130 | mpfi | 3.47 | 2.68 |  9.0 | 111 | 5000 | 21 | 27 | 16500 |\n",
       "| 1 |  NA | alfa-romero | gas | std | two  | hatchback   | rwd | front | 94.5 | ⋯ | 152 | mpfi | 2.68 | 3.47 |  9.0 | 154 | 5000 | 19 | 26 | 16500 |\n",
       "| 2 | 164 | audi        | gas | std | four | sedan       | fwd | front | 99.8 | ⋯ | 109 | mpfi | 3.19 | 3.40 | 10.0 | 102 | 5500 | 24 | 30 | 13950 |\n",
       "| 2 | 164 | audi        | gas | std | four | sedan       | 4wd | front | 99.4 | ⋯ | 136 | mpfi | 3.19 | 3.40 |  8.0 | 115 | 5500 | 18 | 22 | 17450 |\n",
       "| 2 |  NA | audi        | gas | std | two  | sedan       | fwd | front | 99.8 | ⋯ | 136 | mpfi | 3.19 | 3.40 |  8.5 | 110 | 5500 | 19 | 25 | 15250 |\n",
       "\n"
      ],
      "text/plain": [
       "  V1 V2  V3          V4  V5  V6   V7          V8  V9    V10  ⋯ V17 V18  V19 \n",
       "1 3   NA alfa-romero gas std two  convertible rwd front 88.6 ⋯ 130 mpfi 3.47\n",
       "2 3   NA alfa-romero gas std two  convertible rwd front 88.6 ⋯ 130 mpfi 3.47\n",
       "3 1   NA alfa-romero gas std two  hatchback   rwd front 94.5 ⋯ 152 mpfi 2.68\n",
       "4 2  164 audi        gas std four sedan       fwd front 99.8 ⋯ 109 mpfi 3.19\n",
       "5 2  164 audi        gas std four sedan       4wd front 99.4 ⋯ 136 mpfi 3.19\n",
       "6 2   NA audi        gas std two  sedan       fwd front 99.8 ⋯ 136 mpfi 3.19\n",
       "  V20  V21  V22 V23  V24 V25 V26  \n",
       "1 2.68  9.0 111 5000 21  27  13495\n",
       "2 2.68  9.0 111 5000 21  27  16500\n",
       "3 3.47  9.0 154 5000 19  26  16500\n",
       "4 3.40 10.0 102 5500 24  30  13950\n",
       "5 3.40  8.0 115 5500 18  22  17450\n",
       "6 3.40  8.5 110 5500 19  25  15250"
      ]
     },
     "metadata": {},
     "output_type": "display_data"
    }
   ],
   "source": [
    "url <- \"http://archive.ics.uci.edu/ml/machine-learning-databases/autos/imports-85.data\"\n",
    "df <- read.csv(url, na.strings=\"?\", header=FALSE)\n",
    "head(df)"
   ]
  },
  {
   "cell_type": "markdown",
   "metadata": {},
   "source": [
    "#### Haz un sumario del dataframe."
   ]
  },
  {
   "cell_type": "code",
   "execution_count": 2,
   "metadata": {},
   "outputs": [
    {
     "data": {
      "text/plain": [
       "       V1                V2               V3           V4          V5     \n",
       " Min.   :-2.0000   Min.   : 65   toyota    : 32   diesel: 20   std  :168  \n",
       " 1st Qu.: 0.0000   1st Qu.: 94   nissan    : 18   gas   :185   turbo: 37  \n",
       " Median : 1.0000   Median :115   mazda     : 17                           \n",
       " Mean   : 0.8341   Mean   :122   honda     : 13                           \n",
       " 3rd Qu.: 2.0000   3rd Qu.:150   mitsubishi: 13                           \n",
       " Max.   : 3.0000   Max.   :256   subaru    : 12                           \n",
       "                   NA's   :41    (Other)   :100                           \n",
       "    V6                V7       V8          V9           V10        \n",
       " four:114   convertible: 6   4wd:  9   front:202   Min.   : 86.60  \n",
       " two : 89   hardtop    : 8   fwd:120   rear :  3   1st Qu.: 94.50  \n",
       " NA's:  2   hatchback  :70   rwd: 76               Median : 97.00  \n",
       "            sedan      :96                         Mean   : 98.76  \n",
       "            wagon      :25                         3rd Qu.:102.40  \n",
       "                                                   Max.   :120.90  \n",
       "                                                                   \n",
       "      V11             V12             V13             V14          V15     \n",
       " Min.   :141.1   Min.   :60.30   Min.   :47.80   Min.   :1488   dohc : 12  \n",
       " 1st Qu.:166.3   1st Qu.:64.10   1st Qu.:52.00   1st Qu.:2145   dohcv:  1  \n",
       " Median :173.2   Median :65.50   Median :54.10   Median :2414   l    : 12  \n",
       " Mean   :174.0   Mean   :65.91   Mean   :53.72   Mean   :2556   ohc  :148  \n",
       " 3rd Qu.:183.1   3rd Qu.:66.90   3rd Qu.:55.50   3rd Qu.:2935   ohcf : 15  \n",
       " Max.   :208.1   Max.   :72.30   Max.   :59.80   Max.   :4066   ohcv : 13  \n",
       "                                                                rotor:  4  \n",
       "     V16           V17             V18          V19            V20       \n",
       " eight :  5   Min.   : 61.0   mpfi   :94   Min.   :2.54   Min.   :2.070  \n",
       " five  : 11   1st Qu.: 97.0   2bbl   :66   1st Qu.:3.15   1st Qu.:3.110  \n",
       " four  :159   Median :120.0   idi    :20   Median :3.31   Median :3.290  \n",
       " six   : 24   Mean   :126.9   1bbl   :11   Mean   :3.33   Mean   :3.255  \n",
       " three :  1   3rd Qu.:141.0   spdi   : 9   3rd Qu.:3.59   3rd Qu.:3.410  \n",
       " twelve:  1   Max.   :326.0   4bbl   : 3   Max.   :3.94   Max.   :4.170  \n",
       " two   :  4                   (Other): 2   NA's   :4      NA's   :4      \n",
       "      V21             V22             V23            V24             V25       \n",
       " Min.   : 7.00   Min.   : 48.0   Min.   :4150   Min.   :13.00   Min.   :16.00  \n",
       " 1st Qu.: 8.60   1st Qu.: 70.0   1st Qu.:4800   1st Qu.:19.00   1st Qu.:25.00  \n",
       " Median : 9.00   Median : 95.0   Median :5200   Median :24.00   Median :30.00  \n",
       " Mean   :10.14   Mean   :104.3   Mean   :5125   Mean   :25.22   Mean   :30.75  \n",
       " 3rd Qu.: 9.40   3rd Qu.:116.0   3rd Qu.:5500   3rd Qu.:30.00   3rd Qu.:34.00  \n",
       " Max.   :23.00   Max.   :288.0   Max.   :6600   Max.   :49.00   Max.   :54.00  \n",
       "                 NA's   :2       NA's   :2                                     \n",
       "      V26       \n",
       " Min.   : 5118  \n",
       " 1st Qu.: 7775  \n",
       " Median :10295  \n",
       " Mean   :13207  \n",
       " 3rd Qu.:16500  \n",
       " Max.   :45400  \n",
       " NA's   :4      "
      ]
     },
     "metadata": {},
     "output_type": "display_data"
    }
   ],
   "source": [
    "summary(df)"
   ]
  },
  {
   "cell_type": "markdown",
   "metadata": {},
   "source": [
    "#### ¿Qué dimensión tiene el dataframe?"
   ]
  },
  {
   "cell_type": "code",
   "execution_count": 3,
   "metadata": {},
   "outputs": [
    {
     "data": {
      "text/html": [
       "<ol class=list-inline>\n",
       "\t<li>205</li>\n",
       "\t<li>26</li>\n",
       "</ol>\n"
      ],
      "text/latex": [
       "\\begin{enumerate*}\n",
       "\\item 205\n",
       "\\item 26\n",
       "\\end{enumerate*}\n"
      ],
      "text/markdown": [
       "1. 205\n",
       "2. 26\n",
       "\n",
       "\n"
      ],
      "text/plain": [
       "[1] 205  26"
      ]
     },
     "metadata": {},
     "output_type": "display_data"
    }
   ],
   "source": [
    "dim(df)"
   ]
  },
  {
   "cell_type": "markdown",
   "metadata": {},
   "source": [
    "#### Inspecciona los datos, ¿de qué clase es cada tipo? Extrae los distintos valores que toman los factores."
   ]
  },
  {
   "cell_type": "code",
   "execution_count": 4,
   "metadata": {},
   "outputs": [
    {
     "data": {
      "text/html": [
       "<dl class=dl-horizontal>\n",
       "\t<dt>V1</dt>\n",
       "\t\t<dd>'integer'</dd>\n",
       "\t<dt>V2</dt>\n",
       "\t\t<dd>'integer'</dd>\n",
       "\t<dt>V3</dt>\n",
       "\t\t<dd>'factor'</dd>\n",
       "\t<dt>V4</dt>\n",
       "\t\t<dd>'factor'</dd>\n",
       "\t<dt>V5</dt>\n",
       "\t\t<dd>'factor'</dd>\n",
       "\t<dt>V6</dt>\n",
       "\t\t<dd>'factor'</dd>\n",
       "\t<dt>V7</dt>\n",
       "\t\t<dd>'factor'</dd>\n",
       "\t<dt>V8</dt>\n",
       "\t\t<dd>'factor'</dd>\n",
       "\t<dt>V9</dt>\n",
       "\t\t<dd>'factor'</dd>\n",
       "\t<dt>V10</dt>\n",
       "\t\t<dd>'numeric'</dd>\n",
       "\t<dt>V11</dt>\n",
       "\t\t<dd>'numeric'</dd>\n",
       "\t<dt>V12</dt>\n",
       "\t\t<dd>'numeric'</dd>\n",
       "\t<dt>V13</dt>\n",
       "\t\t<dd>'numeric'</dd>\n",
       "\t<dt>V14</dt>\n",
       "\t\t<dd>'integer'</dd>\n",
       "\t<dt>V15</dt>\n",
       "\t\t<dd>'factor'</dd>\n",
       "\t<dt>V16</dt>\n",
       "\t\t<dd>'factor'</dd>\n",
       "\t<dt>V17</dt>\n",
       "\t\t<dd>'integer'</dd>\n",
       "\t<dt>V18</dt>\n",
       "\t\t<dd>'factor'</dd>\n",
       "\t<dt>V19</dt>\n",
       "\t\t<dd>'numeric'</dd>\n",
       "\t<dt>V20</dt>\n",
       "\t\t<dd>'numeric'</dd>\n",
       "\t<dt>V21</dt>\n",
       "\t\t<dd>'numeric'</dd>\n",
       "\t<dt>V22</dt>\n",
       "\t\t<dd>'integer'</dd>\n",
       "\t<dt>V23</dt>\n",
       "\t\t<dd>'integer'</dd>\n",
       "\t<dt>V24</dt>\n",
       "\t\t<dd>'integer'</dd>\n",
       "\t<dt>V25</dt>\n",
       "\t\t<dd>'integer'</dd>\n",
       "\t<dt>V26</dt>\n",
       "\t\t<dd>'integer'</dd>\n",
       "</dl>\n"
      ],
      "text/latex": [
       "\\begin{description*}\n",
       "\\item[V1] 'integer'\n",
       "\\item[V2] 'integer'\n",
       "\\item[V3] 'factor'\n",
       "\\item[V4] 'factor'\n",
       "\\item[V5] 'factor'\n",
       "\\item[V6] 'factor'\n",
       "\\item[V7] 'factor'\n",
       "\\item[V8] 'factor'\n",
       "\\item[V9] 'factor'\n",
       "\\item[V10] 'numeric'\n",
       "\\item[V11] 'numeric'\n",
       "\\item[V12] 'numeric'\n",
       "\\item[V13] 'numeric'\n",
       "\\item[V14] 'integer'\n",
       "\\item[V15] 'factor'\n",
       "\\item[V16] 'factor'\n",
       "\\item[V17] 'integer'\n",
       "\\item[V18] 'factor'\n",
       "\\item[V19] 'numeric'\n",
       "\\item[V20] 'numeric'\n",
       "\\item[V21] 'numeric'\n",
       "\\item[V22] 'integer'\n",
       "\\item[V23] 'integer'\n",
       "\\item[V24] 'integer'\n",
       "\\item[V25] 'integer'\n",
       "\\item[V26] 'integer'\n",
       "\\end{description*}\n"
      ],
      "text/markdown": [
       "V1\n",
       ":   'integer'V2\n",
       ":   'integer'V3\n",
       ":   'factor'V4\n",
       ":   'factor'V5\n",
       ":   'factor'V6\n",
       ":   'factor'V7\n",
       ":   'factor'V8\n",
       ":   'factor'V9\n",
       ":   'factor'V10\n",
       ":   'numeric'V11\n",
       ":   'numeric'V12\n",
       ":   'numeric'V13\n",
       ":   'numeric'V14\n",
       ":   'integer'V15\n",
       ":   'factor'V16\n",
       ":   'factor'V17\n",
       ":   'integer'V18\n",
       ":   'factor'V19\n",
       ":   'numeric'V20\n",
       ":   'numeric'V21\n",
       ":   'numeric'V22\n",
       ":   'integer'V23\n",
       ":   'integer'V24\n",
       ":   'integer'V25\n",
       ":   'integer'V26\n",
       ":   'integer'\n",
       "\n"
      ],
      "text/plain": [
       "       V1        V2        V3        V4        V5        V6        V7        V8 \n",
       "\"integer\" \"integer\"  \"factor\"  \"factor\"  \"factor\"  \"factor\"  \"factor\"  \"factor\" \n",
       "       V9       V10       V11       V12       V13       V14       V15       V16 \n",
       " \"factor\" \"numeric\" \"numeric\" \"numeric\" \"numeric\" \"integer\"  \"factor\"  \"factor\" \n",
       "      V17       V18       V19       V20       V21       V22       V23       V24 \n",
       "\"integer\"  \"factor\" \"numeric\" \"numeric\" \"numeric\" \"integer\" \"integer\" \"integer\" \n",
       "      V25       V26 \n",
       "\"integer\" \"integer\" "
      ]
     },
     "metadata": {},
     "output_type": "display_data"
    }
   ],
   "source": [
    "sapply(df, class)"
   ]
  },
  {
   "cell_type": "code",
   "execution_count": 5,
   "metadata": {},
   "outputs": [
    {
     "name": "stdout",
     "output_type": "stream",
     "text": [
      "               V3\n",
      "1     alfa-romero\n",
      "4            audi\n",
      "11            bmw\n",
      "19      chevrolet\n",
      "22          dodge\n",
      "31          honda\n",
      "44          isuzu\n",
      "48         jaguar\n",
      "51          mazda\n",
      "68  mercedes-benz\n",
      "76        mercury\n",
      "77     mitsubishi\n",
      "90         nissan\n",
      "108        peugot\n",
      "119      plymouth\n",
      "126       porsche\n",
      "131       renault\n",
      "133          saab\n",
      "139        subaru\n",
      "151        toyota\n",
      "183    volkswagen\n",
      "195         volvo\n",
      "       V4\n",
      "1     gas\n",
      "64 diesel\n",
      "     V5\n",
      "1   std\n",
      "9 turbo\n",
      "     V6\n",
      "1   two\n",
      "4  four\n",
      "28 <NA>\n",
      "            V7\n",
      "1  convertible\n",
      "3    hatchback\n",
      "4        sedan\n",
      "8        wagon\n",
      "70     hardtop\n",
      "   V8\n",
      "1 rwd\n",
      "4 fwd\n",
      "5 4wd\n",
      "       V9\n",
      "1   front\n",
      "127  rear\n",
      "      V15\n",
      "1    dohc\n",
      "3    ohcv\n",
      "4     ohc\n",
      "19      l\n",
      "56  rotor\n",
      "127  ohcf\n",
      "130 dohcv\n",
      "      V16\n",
      "1    four\n",
      "3     six\n",
      "5    five\n",
      "19  three\n",
      "50 twelve\n",
      "56    two\n",
      "72  eight\n",
      "    V18\n",
      "1  mpfi\n",
      "19 2bbl\n",
      "30  mfi\n",
      "31 1bbl\n",
      "47 spfi\n",
      "56 4bbl\n",
      "64  idi\n",
      "80 spdi\n"
     ]
    }
   ],
   "source": [
    "for (col in colnames(df[sapply(df, is.factor)])){\n",
    "    print(unique(df[col]))\n",
    "}"
   ]
  },
  {
   "cell_type": "markdown",
   "metadata": {},
   "source": [
    "#### Indica la proporción de  valores faltantes por columna usando sum e is.na y un apply (usa nrow)."
   ]
  },
  {
   "cell_type": "code",
   "execution_count": 6,
   "metadata": {},
   "outputs": [
    {
     "data": {
      "text/html": [
       "<dl class=dl-horizontal>\n",
       "\t<dt>V1</dt>\n",
       "\t\t<dd>0</dd>\n",
       "\t<dt>V2</dt>\n",
       "\t\t<dd>20</dd>\n",
       "\t<dt>V3</dt>\n",
       "\t\t<dd>0</dd>\n",
       "\t<dt>V4</dt>\n",
       "\t\t<dd>0</dd>\n",
       "\t<dt>V5</dt>\n",
       "\t\t<dd>0</dd>\n",
       "\t<dt>V6</dt>\n",
       "\t\t<dd>0.975609756097561</dd>\n",
       "\t<dt>V7</dt>\n",
       "\t\t<dd>0</dd>\n",
       "\t<dt>V8</dt>\n",
       "\t\t<dd>0</dd>\n",
       "\t<dt>V9</dt>\n",
       "\t\t<dd>0</dd>\n",
       "\t<dt>V10</dt>\n",
       "\t\t<dd>0</dd>\n",
       "\t<dt>V11</dt>\n",
       "\t\t<dd>0</dd>\n",
       "\t<dt>V12</dt>\n",
       "\t\t<dd>0</dd>\n",
       "\t<dt>V13</dt>\n",
       "\t\t<dd>0</dd>\n",
       "\t<dt>V14</dt>\n",
       "\t\t<dd>0</dd>\n",
       "\t<dt>V15</dt>\n",
       "\t\t<dd>0</dd>\n",
       "\t<dt>V16</dt>\n",
       "\t\t<dd>0</dd>\n",
       "\t<dt>V17</dt>\n",
       "\t\t<dd>0</dd>\n",
       "\t<dt>V18</dt>\n",
       "\t\t<dd>0</dd>\n",
       "\t<dt>V19</dt>\n",
       "\t\t<dd>1.95121951219512</dd>\n",
       "\t<dt>V20</dt>\n",
       "\t\t<dd>1.95121951219512</dd>\n",
       "\t<dt>V21</dt>\n",
       "\t\t<dd>0</dd>\n",
       "\t<dt>V22</dt>\n",
       "\t\t<dd>0.975609756097561</dd>\n",
       "\t<dt>V23</dt>\n",
       "\t\t<dd>0.975609756097561</dd>\n",
       "\t<dt>V24</dt>\n",
       "\t\t<dd>0</dd>\n",
       "\t<dt>V25</dt>\n",
       "\t\t<dd>0</dd>\n",
       "\t<dt>V26</dt>\n",
       "\t\t<dd>1.95121951219512</dd>\n",
       "</dl>\n"
      ],
      "text/latex": [
       "\\begin{description*}\n",
       "\\item[V1] 0\n",
       "\\item[V2] 20\n",
       "\\item[V3] 0\n",
       "\\item[V4] 0\n",
       "\\item[V5] 0\n",
       "\\item[V6] 0.975609756097561\n",
       "\\item[V7] 0\n",
       "\\item[V8] 0\n",
       "\\item[V9] 0\n",
       "\\item[V10] 0\n",
       "\\item[V11] 0\n",
       "\\item[V12] 0\n",
       "\\item[V13] 0\n",
       "\\item[V14] 0\n",
       "\\item[V15] 0\n",
       "\\item[V16] 0\n",
       "\\item[V17] 0\n",
       "\\item[V18] 0\n",
       "\\item[V19] 1.95121951219512\n",
       "\\item[V20] 1.95121951219512\n",
       "\\item[V21] 0\n",
       "\\item[V22] 0.975609756097561\n",
       "\\item[V23] 0.975609756097561\n",
       "\\item[V24] 0\n",
       "\\item[V25] 0\n",
       "\\item[V26] 1.95121951219512\n",
       "\\end{description*}\n"
      ],
      "text/markdown": [
       "V1\n",
       ":   0V2\n",
       ":   20V3\n",
       ":   0V4\n",
       ":   0V5\n",
       ":   0V6\n",
       ":   0.975609756097561V7\n",
       ":   0V8\n",
       ":   0V9\n",
       ":   0V10\n",
       ":   0V11\n",
       ":   0V12\n",
       ":   0V13\n",
       ":   0V14\n",
       ":   0V15\n",
       ":   0V16\n",
       ":   0V17\n",
       ":   0V18\n",
       ":   0V19\n",
       ":   1.95121951219512V20\n",
       ":   1.95121951219512V21\n",
       ":   0V22\n",
       ":   0.975609756097561V23\n",
       ":   0.975609756097561V24\n",
       ":   0V25\n",
       ":   0V26\n",
       ":   1.95121951219512\n",
       "\n"
      ],
      "text/plain": [
       "        V1         V2         V3         V4         V5         V6         V7 \n",
       " 0.0000000 20.0000000  0.0000000  0.0000000  0.0000000  0.9756098  0.0000000 \n",
       "        V8         V9        V10        V11        V12        V13        V14 \n",
       " 0.0000000  0.0000000  0.0000000  0.0000000  0.0000000  0.0000000  0.0000000 \n",
       "       V15        V16        V17        V18        V19        V20        V21 \n",
       " 0.0000000  0.0000000  0.0000000  0.0000000  1.9512195  1.9512195  0.0000000 \n",
       "       V22        V23        V24        V25        V26 \n",
       " 0.9756098  0.9756098  0.0000000  0.0000000  1.9512195 "
      ]
     },
     "metadata": {},
     "output_type": "display_data"
    }
   ],
   "source": [
    "apply(is.na(df), 2, sum) / nrow(df) * 100"
   ]
  },
  {
   "cell_type": "markdown",
   "metadata": {},
   "source": [
    "#### Edita la primera columna llevándola al rango 0-5."
   ]
  },
  {
   "cell_type": "code",
   "execution_count": 7,
   "metadata": {},
   "outputs": [
    {
     "data": {
      "text/html": [
       "<ol class=list-inline>\n",
       "\t<li>-2</li>\n",
       "\t<li>3</li>\n",
       "</ol>\n"
      ],
      "text/latex": [
       "\\begin{enumerate*}\n",
       "\\item -2\n",
       "\\item 3\n",
       "\\end{enumerate*}\n"
      ],
      "text/markdown": [
       "1. -2\n",
       "2. 3\n",
       "\n",
       "\n"
      ],
      "text/plain": [
       "[1] -2  3"
      ]
     },
     "metadata": {},
     "output_type": "display_data"
    }
   ],
   "source": [
    "range(df[1])"
   ]
  },
  {
   "cell_type": "code",
   "execution_count": 8,
   "metadata": {},
   "outputs": [],
   "source": [
    "df[1] <- df[1] + 2"
   ]
  },
  {
   "cell_type": "code",
   "execution_count": 9,
   "metadata": {},
   "outputs": [
    {
     "data": {
      "text/html": [
       "<ol class=list-inline>\n",
       "\t<li>0</li>\n",
       "\t<li>5</li>\n",
       "</ol>\n"
      ],
      "text/latex": [
       "\\begin{enumerate*}\n",
       "\\item 0\n",
       "\\item 5\n",
       "\\end{enumerate*}\n"
      ],
      "text/markdown": [
       "1. 0\n",
       "2. 5\n",
       "\n",
       "\n"
      ],
      "text/plain": [
       "[1] 0 5"
      ]
     },
     "metadata": {},
     "output_type": "display_data"
    }
   ],
   "source": [
    "range(df[1])"
   ]
  },
  {
   "cell_type": "markdown",
   "metadata": {},
   "source": [
    "#### Da una media de los valores de la primera columna respecto a la columna de número de puertas del coche."
   ]
  },
  {
   "cell_type": "code",
   "execution_count": 11,
   "metadata": {},
   "outputs": [
    {
     "data": {
      "text/html": [
       "<table>\n",
       "<caption>A data.frame: 6 × 26</caption>\n",
       "<thead>\n",
       "\t<tr><th scope=col>V1</th><th scope=col>V2</th><th scope=col>V3</th><th scope=col>V4</th><th scope=col>V5</th><th scope=col>V6</th><th scope=col>V7</th><th scope=col>V8</th><th scope=col>V9</th><th scope=col>V10</th><th scope=col>⋯</th><th scope=col>V17</th><th scope=col>V18</th><th scope=col>V19</th><th scope=col>V20</th><th scope=col>V21</th><th scope=col>V22</th><th scope=col>V23</th><th scope=col>V24</th><th scope=col>V25</th><th scope=col>V26</th></tr>\n",
       "\t<tr><th scope=col>&lt;dbl&gt;</th><th scope=col>&lt;int&gt;</th><th scope=col>&lt;fct&gt;</th><th scope=col>&lt;fct&gt;</th><th scope=col>&lt;fct&gt;</th><th scope=col>&lt;fct&gt;</th><th scope=col>&lt;fct&gt;</th><th scope=col>&lt;fct&gt;</th><th scope=col>&lt;fct&gt;</th><th scope=col>&lt;dbl&gt;</th><th scope=col>⋯</th><th scope=col>&lt;int&gt;</th><th scope=col>&lt;fct&gt;</th><th scope=col>&lt;dbl&gt;</th><th scope=col>&lt;dbl&gt;</th><th scope=col>&lt;dbl&gt;</th><th scope=col>&lt;int&gt;</th><th scope=col>&lt;int&gt;</th><th scope=col>&lt;int&gt;</th><th scope=col>&lt;int&gt;</th><th scope=col>&lt;int&gt;</th></tr>\n",
       "</thead>\n",
       "<tbody>\n",
       "\t<tr><td>5</td><td> NA</td><td>alfa-romero</td><td>gas</td><td>std</td><td>two </td><td>convertible</td><td>rwd</td><td>front</td><td>88.6</td><td>⋯</td><td>130</td><td>mpfi</td><td>3.47</td><td>2.68</td><td> 9.0</td><td>111</td><td>5000</td><td>21</td><td>27</td><td>13495</td></tr>\n",
       "\t<tr><td>5</td><td> NA</td><td>alfa-romero</td><td>gas</td><td>std</td><td>two </td><td>convertible</td><td>rwd</td><td>front</td><td>88.6</td><td>⋯</td><td>130</td><td>mpfi</td><td>3.47</td><td>2.68</td><td> 9.0</td><td>111</td><td>5000</td><td>21</td><td>27</td><td>16500</td></tr>\n",
       "\t<tr><td>3</td><td> NA</td><td>alfa-romero</td><td>gas</td><td>std</td><td>two </td><td>hatchback  </td><td>rwd</td><td>front</td><td>94.5</td><td>⋯</td><td>152</td><td>mpfi</td><td>2.68</td><td>3.47</td><td> 9.0</td><td>154</td><td>5000</td><td>19</td><td>26</td><td>16500</td></tr>\n",
       "\t<tr><td>4</td><td>164</td><td>audi       </td><td>gas</td><td>std</td><td>four</td><td>sedan      </td><td>fwd</td><td>front</td><td>99.8</td><td>⋯</td><td>109</td><td>mpfi</td><td>3.19</td><td>3.40</td><td>10.0</td><td>102</td><td>5500</td><td>24</td><td>30</td><td>13950</td></tr>\n",
       "\t<tr><td>4</td><td>164</td><td>audi       </td><td>gas</td><td>std</td><td>four</td><td>sedan      </td><td>4wd</td><td>front</td><td>99.4</td><td>⋯</td><td>136</td><td>mpfi</td><td>3.19</td><td>3.40</td><td> 8.0</td><td>115</td><td>5500</td><td>18</td><td>22</td><td>17450</td></tr>\n",
       "\t<tr><td>4</td><td> NA</td><td>audi       </td><td>gas</td><td>std</td><td>two </td><td>sedan      </td><td>fwd</td><td>front</td><td>99.8</td><td>⋯</td><td>136</td><td>mpfi</td><td>3.19</td><td>3.40</td><td> 8.5</td><td>110</td><td>5500</td><td>19</td><td>25</td><td>15250</td></tr>\n",
       "</tbody>\n",
       "</table>\n"
      ],
      "text/latex": [
       "A data.frame: 6 × 26\n",
       "\\begin{tabular}{r|llllllllllllllllllllllllll}\n",
       " V1 & V2 & V3 & V4 & V5 & V6 & V7 & V8 & V9 & V10 & V11 & V12 & V13 & V14 & V15 & V16 & V17 & V18 & V19 & V20 & V21 & V22 & V23 & V24 & V25 & V26\\\\\n",
       " <dbl> & <int> & <fct> & <fct> & <fct> & <fct> & <fct> & <fct> & <fct> & <dbl> & <dbl> & <dbl> & <dbl> & <int> & <fct> & <fct> & <int> & <fct> & <dbl> & <dbl> & <dbl> & <int> & <int> & <int> & <int> & <int>\\\\\n",
       "\\hline\n",
       "\t 5 &  NA & alfa-romero & gas & std & two  & convertible & rwd & front & 88.6 & 168.8 & 64.1 & 48.8 & 2548 & dohc & four & 130 & mpfi & 3.47 & 2.68 &  9.0 & 111 & 5000 & 21 & 27 & 13495\\\\\n",
       "\t 5 &  NA & alfa-romero & gas & std & two  & convertible & rwd & front & 88.6 & 168.8 & 64.1 & 48.8 & 2548 & dohc & four & 130 & mpfi & 3.47 & 2.68 &  9.0 & 111 & 5000 & 21 & 27 & 16500\\\\\n",
       "\t 3 &  NA & alfa-romero & gas & std & two  & hatchback   & rwd & front & 94.5 & 171.2 & 65.5 & 52.4 & 2823 & ohcv & six  & 152 & mpfi & 2.68 & 3.47 &  9.0 & 154 & 5000 & 19 & 26 & 16500\\\\\n",
       "\t 4 & 164 & audi        & gas & std & four & sedan       & fwd & front & 99.8 & 176.6 & 66.2 & 54.3 & 2337 & ohc  & four & 109 & mpfi & 3.19 & 3.40 & 10.0 & 102 & 5500 & 24 & 30 & 13950\\\\\n",
       "\t 4 & 164 & audi        & gas & std & four & sedan       & 4wd & front & 99.4 & 176.6 & 66.4 & 54.3 & 2824 & ohc  & five & 136 & mpfi & 3.19 & 3.40 &  8.0 & 115 & 5500 & 18 & 22 & 17450\\\\\n",
       "\t 4 &  NA & audi        & gas & std & two  & sedan       & fwd & front & 99.8 & 177.3 & 66.3 & 53.1 & 2507 & ohc  & five & 136 & mpfi & 3.19 & 3.40 &  8.5 & 110 & 5500 & 19 & 25 & 15250\\\\\n",
       "\\end{tabular}\n"
      ],
      "text/markdown": [
       "\n",
       "A data.frame: 6 × 26\n",
       "\n",
       "| V1 &lt;dbl&gt; | V2 &lt;int&gt; | V3 &lt;fct&gt; | V4 &lt;fct&gt; | V5 &lt;fct&gt; | V6 &lt;fct&gt; | V7 &lt;fct&gt; | V8 &lt;fct&gt; | V9 &lt;fct&gt; | V10 &lt;dbl&gt; | ⋯ ⋯ | V17 &lt;int&gt; | V18 &lt;fct&gt; | V19 &lt;dbl&gt; | V20 &lt;dbl&gt; | V21 &lt;dbl&gt; | V22 &lt;int&gt; | V23 &lt;int&gt; | V24 &lt;int&gt; | V25 &lt;int&gt; | V26 &lt;int&gt; |\n",
       "|---|---|---|---|---|---|---|---|---|---|---|---|---|---|---|---|---|---|---|---|---|\n",
       "| 5 |  NA | alfa-romero | gas | std | two  | convertible | rwd | front | 88.6 | ⋯ | 130 | mpfi | 3.47 | 2.68 |  9.0 | 111 | 5000 | 21 | 27 | 13495 |\n",
       "| 5 |  NA | alfa-romero | gas | std | two  | convertible | rwd | front | 88.6 | ⋯ | 130 | mpfi | 3.47 | 2.68 |  9.0 | 111 | 5000 | 21 | 27 | 16500 |\n",
       "| 3 |  NA | alfa-romero | gas | std | two  | hatchback   | rwd | front | 94.5 | ⋯ | 152 | mpfi | 2.68 | 3.47 |  9.0 | 154 | 5000 | 19 | 26 | 16500 |\n",
       "| 4 | 164 | audi        | gas | std | four | sedan       | fwd | front | 99.8 | ⋯ | 109 | mpfi | 3.19 | 3.40 | 10.0 | 102 | 5500 | 24 | 30 | 13950 |\n",
       "| 4 | 164 | audi        | gas | std | four | sedan       | 4wd | front | 99.4 | ⋯ | 136 | mpfi | 3.19 | 3.40 |  8.0 | 115 | 5500 | 18 | 22 | 17450 |\n",
       "| 4 |  NA | audi        | gas | std | two  | sedan       | fwd | front | 99.8 | ⋯ | 136 | mpfi | 3.19 | 3.40 |  8.5 | 110 | 5500 | 19 | 25 | 15250 |\n",
       "\n"
      ],
      "text/plain": [
       "  V1 V2  V3          V4  V5  V6   V7          V8  V9    V10  ⋯ V17 V18  V19 \n",
       "1 5   NA alfa-romero gas std two  convertible rwd front 88.6 ⋯ 130 mpfi 3.47\n",
       "2 5   NA alfa-romero gas std two  convertible rwd front 88.6 ⋯ 130 mpfi 3.47\n",
       "3 3   NA alfa-romero gas std two  hatchback   rwd front 94.5 ⋯ 152 mpfi 2.68\n",
       "4 4  164 audi        gas std four sedan       fwd front 99.8 ⋯ 109 mpfi 3.19\n",
       "5 4  164 audi        gas std four sedan       4wd front 99.4 ⋯ 136 mpfi 3.19\n",
       "6 4   NA audi        gas std two  sedan       fwd front 99.8 ⋯ 136 mpfi 3.19\n",
       "  V20  V21  V22 V23  V24 V25 V26  \n",
       "1 2.68  9.0 111 5000 21  27  13495\n",
       "2 2.68  9.0 111 5000 21  27  16500\n",
       "3 3.47  9.0 154 5000 19  26  16500\n",
       "4 3.40 10.0 102 5500 24  30  13950\n",
       "5 3.40  8.0 115 5500 18  22  17450\n",
       "6 3.40  8.5 110 5500 19  25  15250"
      ]
     },
     "metadata": {},
     "output_type": "display_data"
    }
   ],
   "source": [
    "head(df)"
   ]
  },
  {
   "cell_type": "code",
   "execution_count": 33,
   "metadata": {},
   "outputs": [
    {
     "data": {
      "text/html": [
       "<dl class=dl-horizontal>\n",
       "\t<dt>four</dt>\n",
       "\t\t<dd>0.105263157894737</dd>\n",
       "\t<dt>two</dt>\n",
       "\t\t<dd>1.7752808988764</dd>\n",
       "</dl>\n"
      ],
      "text/latex": [
       "\\begin{description*}\n",
       "\\item[four] 0.105263157894737\n",
       "\\item[two] 1.7752808988764\n",
       "\\end{description*}\n"
      ],
      "text/markdown": [
       "four\n",
       ":   0.105263157894737two\n",
       ":   1.7752808988764\n",
       "\n"
      ],
      "text/plain": [
       "     four       two \n",
       "0.1052632 1.7752809 "
      ]
     },
     "metadata": {},
     "output_type": "display_data"
    }
   ],
   "source": [
    "tapply(df$'V1', df$'V6', mean)"
   ]
  },
  {
   "cell_type": "markdown",
   "metadata": {},
   "source": [
    "#### Extrae los coches audi que son cuatro puertas con valor V13 menor que 55."
   ]
  },
  {
   "cell_type": "code",
   "execution_count": 34,
   "metadata": {},
   "outputs": [
    {
     "data": {
      "text/html": [
       "<table>\n",
       "<caption>A data.frame: 2 × 26</caption>\n",
       "<thead>\n",
       "\t<tr><th></th><th scope=col>V1</th><th scope=col>V2</th><th scope=col>V3</th><th scope=col>V4</th><th scope=col>V5</th><th scope=col>V6</th><th scope=col>V7</th><th scope=col>V8</th><th scope=col>V9</th><th scope=col>V10</th><th scope=col>⋯</th><th scope=col>V17</th><th scope=col>V18</th><th scope=col>V19</th><th scope=col>V20</th><th scope=col>V21</th><th scope=col>V22</th><th scope=col>V23</th><th scope=col>V24</th><th scope=col>V25</th><th scope=col>V26</th></tr>\n",
       "\t<tr><th></th><th scope=col>&lt;int&gt;</th><th scope=col>&lt;int&gt;</th><th scope=col>&lt;fct&gt;</th><th scope=col>&lt;fct&gt;</th><th scope=col>&lt;fct&gt;</th><th scope=col>&lt;fct&gt;</th><th scope=col>&lt;fct&gt;</th><th scope=col>&lt;fct&gt;</th><th scope=col>&lt;fct&gt;</th><th scope=col>&lt;dbl&gt;</th><th scope=col>⋯</th><th scope=col>&lt;int&gt;</th><th scope=col>&lt;fct&gt;</th><th scope=col>&lt;dbl&gt;</th><th scope=col>&lt;dbl&gt;</th><th scope=col>&lt;dbl&gt;</th><th scope=col>&lt;int&gt;</th><th scope=col>&lt;int&gt;</th><th scope=col>&lt;int&gt;</th><th scope=col>&lt;int&gt;</th><th scope=col>&lt;int&gt;</th></tr>\n",
       "</thead>\n",
       "<tbody>\n",
       "\t<tr><th scope=row>4</th><td>2</td><td>164</td><td>audi</td><td>gas</td><td>std</td><td>four</td><td>sedan</td><td>fwd</td><td>front</td><td>99.8</td><td>⋯</td><td>109</td><td>mpfi</td><td>3.19</td><td>3.4</td><td>10</td><td>102</td><td>5500</td><td>24</td><td>30</td><td>13950</td></tr>\n",
       "\t<tr><th scope=row>5</th><td>2</td><td>164</td><td>audi</td><td>gas</td><td>std</td><td>four</td><td>sedan</td><td>4wd</td><td>front</td><td>99.4</td><td>⋯</td><td>136</td><td>mpfi</td><td>3.19</td><td>3.4</td><td> 8</td><td>115</td><td>5500</td><td>18</td><td>22</td><td>17450</td></tr>\n",
       "</tbody>\n",
       "</table>\n"
      ],
      "text/latex": [
       "A data.frame: 2 × 26\n",
       "\\begin{tabular}{r|llllllllllllllllllllllllll}\n",
       "  & V1 & V2 & V3 & V4 & V5 & V6 & V7 & V8 & V9 & V10 & V11 & V12 & V13 & V14 & V15 & V16 & V17 & V18 & V19 & V20 & V21 & V22 & V23 & V24 & V25 & V26\\\\\n",
       "  & <int> & <int> & <fct> & <fct> & <fct> & <fct> & <fct> & <fct> & <fct> & <dbl> & <dbl> & <dbl> & <dbl> & <int> & <fct> & <fct> & <int> & <fct> & <dbl> & <dbl> & <dbl> & <int> & <int> & <int> & <int> & <int>\\\\\n",
       "\\hline\n",
       "\t4 & 2 & 164 & audi & gas & std & four & sedan & fwd & front & 99.8 & 176.6 & 66.2 & 54.3 & 2337 & ohc & four & 109 & mpfi & 3.19 & 3.4 & 10 & 102 & 5500 & 24 & 30 & 13950\\\\\n",
       "\t5 & 2 & 164 & audi & gas & std & four & sedan & 4wd & front & 99.4 & 176.6 & 66.4 & 54.3 & 2824 & ohc & five & 136 & mpfi & 3.19 & 3.4 &  8 & 115 & 5500 & 18 & 22 & 17450\\\\\n",
       "\\end{tabular}\n"
      ],
      "text/markdown": [
       "\n",
       "A data.frame: 2 × 26\n",
       "\n",
       "| <!--/--> | V1 &lt;int&gt; | V2 &lt;int&gt; | V3 &lt;fct&gt; | V4 &lt;fct&gt; | V5 &lt;fct&gt; | V6 &lt;fct&gt; | V7 &lt;fct&gt; | V8 &lt;fct&gt; | V9 &lt;fct&gt; | V10 &lt;dbl&gt; | ⋯ ⋯ | V17 &lt;int&gt; | V18 &lt;fct&gt; | V19 &lt;dbl&gt; | V20 &lt;dbl&gt; | V21 &lt;dbl&gt; | V22 &lt;int&gt; | V23 &lt;int&gt; | V24 &lt;int&gt; | V25 &lt;int&gt; | V26 &lt;int&gt; |\n",
       "|---|---|---|---|---|---|---|---|---|---|---|---|---|---|---|---|---|---|---|---|---|---|\n",
       "| 4 | 2 | 164 | audi | gas | std | four | sedan | fwd | front | 99.8 | ⋯ | 109 | mpfi | 3.19 | 3.4 | 10 | 102 | 5500 | 24 | 30 | 13950 |\n",
       "| 5 | 2 | 164 | audi | gas | std | four | sedan | 4wd | front | 99.4 | ⋯ | 136 | mpfi | 3.19 | 3.4 |  8 | 115 | 5500 | 18 | 22 | 17450 |\n",
       "\n"
      ],
      "text/plain": [
       "  V1 V2  V3   V4  V5  V6   V7    V8  V9    V10  ⋯ V17 V18  V19  V20 V21 V22\n",
       "4 2  164 audi gas std four sedan fwd front 99.8 ⋯ 109 mpfi 3.19 3.4 10  102\n",
       "5 2  164 audi gas std four sedan 4wd front 99.4 ⋯ 136 mpfi 3.19 3.4  8  115\n",
       "  V23  V24 V25 V26  \n",
       "4 5500 24  30  13950\n",
       "5 5500 18  22  17450"
      ]
     },
     "metadata": {},
     "output_type": "display_data"
    }
   ],
   "source": [
    "df[df$'V3' == 'audi' & df$'V6' == 'four' & df$'V13' < 55,]"
   ]
  }
 ],
 "metadata": {
  "kernelspec": {
   "display_name": "R",
   "language": "R",
   "name": "ir"
  },
  "language_info": {
   "codemirror_mode": "r",
   "file_extension": ".r",
   "mimetype": "text/x-r-source",
   "name": "R",
   "pygments_lexer": "r",
   "version": "3.4.4"
  }
 },
 "nbformat": 4,
 "nbformat_minor": 2
}
