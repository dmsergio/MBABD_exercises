{
 "cells": [
  {
   "cell_type": "markdown",
   "metadata": {},
   "source": [
    "1. Carga el dataset en la url http://archive.ics.uci.edu/ml/machine-learning-databases/autos/imports-85.data indicando que los valores faltantes son \"?\""
   ]
  },
  {
   "cell_type": "code",
   "execution_count": 12,
   "metadata": {},
   "outputs": [
    {
     "data": {
      "text/html": [
       "<table>\n",
       "<caption>A data.frame: 6 × 26</caption>\n",
       "<thead>\n",
       "\t<tr><th scope=col>V1</th><th scope=col>V2</th><th scope=col>V3</th><th scope=col>V4</th><th scope=col>V5</th><th scope=col>V6</th><th scope=col>V7</th><th scope=col>V8</th><th scope=col>V9</th><th scope=col>V10</th><th scope=col>⋯</th><th scope=col>V17</th><th scope=col>V18</th><th scope=col>V19</th><th scope=col>V20</th><th scope=col>V21</th><th scope=col>V22</th><th scope=col>V23</th><th scope=col>V24</th><th scope=col>V25</th><th scope=col>V26</th></tr>\n",
       "\t<tr><th scope=col>&lt;int&gt;</th><th scope=col>&lt;int&gt;</th><th scope=col>&lt;fct&gt;</th><th scope=col>&lt;fct&gt;</th><th scope=col>&lt;fct&gt;</th><th scope=col>&lt;fct&gt;</th><th scope=col>&lt;fct&gt;</th><th scope=col>&lt;fct&gt;</th><th scope=col>&lt;fct&gt;</th><th scope=col>&lt;dbl&gt;</th><th scope=col>⋯</th><th scope=col>&lt;int&gt;</th><th scope=col>&lt;fct&gt;</th><th scope=col>&lt;dbl&gt;</th><th scope=col>&lt;dbl&gt;</th><th scope=col>&lt;dbl&gt;</th><th scope=col>&lt;int&gt;</th><th scope=col>&lt;int&gt;</th><th scope=col>&lt;int&gt;</th><th scope=col>&lt;int&gt;</th><th scope=col>&lt;int&gt;</th></tr>\n",
       "</thead>\n",
       "<tbody>\n",
       "\t<tr><td>3</td><td> NA</td><td>alfa-romero</td><td>gas</td><td>std</td><td>two </td><td>convertible</td><td>rwd</td><td>front</td><td>88.6</td><td>⋯</td><td>130</td><td>mpfi</td><td>3.47</td><td>2.68</td><td> 9.0</td><td>111</td><td>5000</td><td>21</td><td>27</td><td>13495</td></tr>\n",
       "\t<tr><td>3</td><td> NA</td><td>alfa-romero</td><td>gas</td><td>std</td><td>two </td><td>convertible</td><td>rwd</td><td>front</td><td>88.6</td><td>⋯</td><td>130</td><td>mpfi</td><td>3.47</td><td>2.68</td><td> 9.0</td><td>111</td><td>5000</td><td>21</td><td>27</td><td>16500</td></tr>\n",
       "\t<tr><td>1</td><td> NA</td><td>alfa-romero</td><td>gas</td><td>std</td><td>two </td><td>hatchback  </td><td>rwd</td><td>front</td><td>94.5</td><td>⋯</td><td>152</td><td>mpfi</td><td>2.68</td><td>3.47</td><td> 9.0</td><td>154</td><td>5000</td><td>19</td><td>26</td><td>16500</td></tr>\n",
       "\t<tr><td>2</td><td>164</td><td>audi       </td><td>gas</td><td>std</td><td>four</td><td>sedan      </td><td>fwd</td><td>front</td><td>99.8</td><td>⋯</td><td>109</td><td>mpfi</td><td>3.19</td><td>3.40</td><td>10.0</td><td>102</td><td>5500</td><td>24</td><td>30</td><td>13950</td></tr>\n",
       "\t<tr><td>2</td><td>164</td><td>audi       </td><td>gas</td><td>std</td><td>four</td><td>sedan      </td><td>4wd</td><td>front</td><td>99.4</td><td>⋯</td><td>136</td><td>mpfi</td><td>3.19</td><td>3.40</td><td> 8.0</td><td>115</td><td>5500</td><td>18</td><td>22</td><td>17450</td></tr>\n",
       "\t<tr><td>2</td><td> NA</td><td>audi       </td><td>gas</td><td>std</td><td>two </td><td>sedan      </td><td>fwd</td><td>front</td><td>99.8</td><td>⋯</td><td>136</td><td>mpfi</td><td>3.19</td><td>3.40</td><td> 8.5</td><td>110</td><td>5500</td><td>19</td><td>25</td><td>15250</td></tr>\n",
       "</tbody>\n",
       "</table>\n"
      ],
      "text/latex": [
       "A data.frame: 6 × 26\n",
       "\\begin{tabular}{r|llllllllllllllllllllllllll}\n",
       " V1 & V2 & V3 & V4 & V5 & V6 & V7 & V8 & V9 & V10 & V11 & V12 & V13 & V14 & V15 & V16 & V17 & V18 & V19 & V20 & V21 & V22 & V23 & V24 & V25 & V26\\\\\n",
       " <int> & <int> & <fct> & <fct> & <fct> & <fct> & <fct> & <fct> & <fct> & <dbl> & <dbl> & <dbl> & <dbl> & <int> & <fct> & <fct> & <int> & <fct> & <dbl> & <dbl> & <dbl> & <int> & <int> & <int> & <int> & <int>\\\\\n",
       "\\hline\n",
       "\t 3 &  NA & alfa-romero & gas & std & two  & convertible & rwd & front & 88.6 & 168.8 & 64.1 & 48.8 & 2548 & dohc & four & 130 & mpfi & 3.47 & 2.68 &  9.0 & 111 & 5000 & 21 & 27 & 13495\\\\\n",
       "\t 3 &  NA & alfa-romero & gas & std & two  & convertible & rwd & front & 88.6 & 168.8 & 64.1 & 48.8 & 2548 & dohc & four & 130 & mpfi & 3.47 & 2.68 &  9.0 & 111 & 5000 & 21 & 27 & 16500\\\\\n",
       "\t 1 &  NA & alfa-romero & gas & std & two  & hatchback   & rwd & front & 94.5 & 171.2 & 65.5 & 52.4 & 2823 & ohcv & six  & 152 & mpfi & 2.68 & 3.47 &  9.0 & 154 & 5000 & 19 & 26 & 16500\\\\\n",
       "\t 2 & 164 & audi        & gas & std & four & sedan       & fwd & front & 99.8 & 176.6 & 66.2 & 54.3 & 2337 & ohc  & four & 109 & mpfi & 3.19 & 3.40 & 10.0 & 102 & 5500 & 24 & 30 & 13950\\\\\n",
       "\t 2 & 164 & audi        & gas & std & four & sedan       & 4wd & front & 99.4 & 176.6 & 66.4 & 54.3 & 2824 & ohc  & five & 136 & mpfi & 3.19 & 3.40 &  8.0 & 115 & 5500 & 18 & 22 & 17450\\\\\n",
       "\t 2 &  NA & audi        & gas & std & two  & sedan       & fwd & front & 99.8 & 177.3 & 66.3 & 53.1 & 2507 & ohc  & five & 136 & mpfi & 3.19 & 3.40 &  8.5 & 110 & 5500 & 19 & 25 & 15250\\\\\n",
       "\\end{tabular}\n"
      ],
      "text/markdown": [
       "\n",
       "A data.frame: 6 × 26\n",
       "\n",
       "| V1 &lt;int&gt; | V2 &lt;int&gt; | V3 &lt;fct&gt; | V4 &lt;fct&gt; | V5 &lt;fct&gt; | V6 &lt;fct&gt; | V7 &lt;fct&gt; | V8 &lt;fct&gt; | V9 &lt;fct&gt; | V10 &lt;dbl&gt; | ⋯ ⋯ | V17 &lt;int&gt; | V18 &lt;fct&gt; | V19 &lt;dbl&gt; | V20 &lt;dbl&gt; | V21 &lt;dbl&gt; | V22 &lt;int&gt; | V23 &lt;int&gt; | V24 &lt;int&gt; | V25 &lt;int&gt; | V26 &lt;int&gt; |\n",
       "|---|---|---|---|---|---|---|---|---|---|---|---|---|---|---|---|---|---|---|---|---|\n",
       "| 3 |  NA | alfa-romero | gas | std | two  | convertible | rwd | front | 88.6 | ⋯ | 130 | mpfi | 3.47 | 2.68 |  9.0 | 111 | 5000 | 21 | 27 | 13495 |\n",
       "| 3 |  NA | alfa-romero | gas | std | two  | convertible | rwd | front | 88.6 | ⋯ | 130 | mpfi | 3.47 | 2.68 |  9.0 | 111 | 5000 | 21 | 27 | 16500 |\n",
       "| 1 |  NA | alfa-romero | gas | std | two  | hatchback   | rwd | front | 94.5 | ⋯ | 152 | mpfi | 2.68 | 3.47 |  9.0 | 154 | 5000 | 19 | 26 | 16500 |\n",
       "| 2 | 164 | audi        | gas | std | four | sedan       | fwd | front | 99.8 | ⋯ | 109 | mpfi | 3.19 | 3.40 | 10.0 | 102 | 5500 | 24 | 30 | 13950 |\n",
       "| 2 | 164 | audi        | gas | std | four | sedan       | 4wd | front | 99.4 | ⋯ | 136 | mpfi | 3.19 | 3.40 |  8.0 | 115 | 5500 | 18 | 22 | 17450 |\n",
       "| 2 |  NA | audi        | gas | std | two  | sedan       | fwd | front | 99.8 | ⋯ | 136 | mpfi | 3.19 | 3.40 |  8.5 | 110 | 5500 | 19 | 25 | 15250 |\n",
       "\n"
      ],
      "text/plain": [
       "  V1 V2  V3          V4  V5  V6   V7          V8  V9    V10  ⋯ V17 V18  V19 \n",
       "1 3   NA alfa-romero gas std two  convertible rwd front 88.6 ⋯ 130 mpfi 3.47\n",
       "2 3   NA alfa-romero gas std two  convertible rwd front 88.6 ⋯ 130 mpfi 3.47\n",
       "3 1   NA alfa-romero gas std two  hatchback   rwd front 94.5 ⋯ 152 mpfi 2.68\n",
       "4 2  164 audi        gas std four sedan       fwd front 99.8 ⋯ 109 mpfi 3.19\n",
       "5 2  164 audi        gas std four sedan       4wd front 99.4 ⋯ 136 mpfi 3.19\n",
       "6 2   NA audi        gas std two  sedan       fwd front 99.8 ⋯ 136 mpfi 3.19\n",
       "  V20  V21  V22 V23  V24 V25 V26  \n",
       "1 2.68  9.0 111 5000 21  27  13495\n",
       "2 2.68  9.0 111 5000 21  27  16500\n",
       "3 3.47  9.0 154 5000 19  26  16500\n",
       "4 3.40 10.0 102 5500 24  30  13950\n",
       "5 3.40  8.0 115 5500 18  22  17450\n",
       "6 3.40  8.5 110 5500 19  25  15250"
      ]
     },
     "metadata": {},
     "output_type": "display_data"
    }
   ],
   "source": [
    "url <- \"http://archive.ics.uci.edu/ml/machine-learning-databases/autos/imports-85.data\"\n",
    "df <- read.table(url, sep=\",\", dec=\".\", na.strings=\"?\", header=FALSE)\n",
    "head(df)"
   ]
  },
  {
   "cell_type": "markdown",
   "metadata": {},
   "source": [
    "2. Haz un sumario del dataframe"
   ]
  },
  {
   "cell_type": "code",
   "execution_count": 14,
   "metadata": {},
   "outputs": [
    {
     "data": {
      "text/plain": [
       "       V1                V2               V3           V4          V5     \n",
       " Min.   :-2.0000   Min.   : 65   toyota    : 32   diesel: 20   std  :168  \n",
       " 1st Qu.: 0.0000   1st Qu.: 94   nissan    : 18   gas   :185   turbo: 37  \n",
       " Median : 1.0000   Median :115   mazda     : 17                           \n",
       " Mean   : 0.8341   Mean   :122   honda     : 13                           \n",
       " 3rd Qu.: 2.0000   3rd Qu.:150   mitsubishi: 13                           \n",
       " Max.   : 3.0000   Max.   :256   subaru    : 12                           \n",
       "                   NA's   :41    (Other)   :100                           \n",
       "    V6                V7       V8          V9           V10        \n",
       " four:114   convertible: 6   4wd:  9   front:202   Min.   : 86.60  \n",
       " two : 89   hardtop    : 8   fwd:120   rear :  3   1st Qu.: 94.50  \n",
       " NA's:  2   hatchback  :70   rwd: 76               Median : 97.00  \n",
       "            sedan      :96                         Mean   : 98.76  \n",
       "            wagon      :25                         3rd Qu.:102.40  \n",
       "                                                   Max.   :120.90  \n",
       "                                                                   \n",
       "      V11             V12             V13             V14          V15     \n",
       " Min.   :141.1   Min.   :60.30   Min.   :47.80   Min.   :1488   dohc : 12  \n",
       " 1st Qu.:166.3   1st Qu.:64.10   1st Qu.:52.00   1st Qu.:2145   dohcv:  1  \n",
       " Median :173.2   Median :65.50   Median :54.10   Median :2414   l    : 12  \n",
       " Mean   :174.0   Mean   :65.91   Mean   :53.72   Mean   :2556   ohc  :148  \n",
       " 3rd Qu.:183.1   3rd Qu.:66.90   3rd Qu.:55.50   3rd Qu.:2935   ohcf : 15  \n",
       " Max.   :208.1   Max.   :72.30   Max.   :59.80   Max.   :4066   ohcv : 13  \n",
       "                                                                rotor:  4  \n",
       "     V16           V17             V18          V19            V20       \n",
       " eight :  5   Min.   : 61.0   mpfi   :94   Min.   :2.54   Min.   :2.070  \n",
       " five  : 11   1st Qu.: 97.0   2bbl   :66   1st Qu.:3.15   1st Qu.:3.110  \n",
       " four  :159   Median :120.0   idi    :20   Median :3.31   Median :3.290  \n",
       " six   : 24   Mean   :126.9   1bbl   :11   Mean   :3.33   Mean   :3.255  \n",
       " three :  1   3rd Qu.:141.0   spdi   : 9   3rd Qu.:3.59   3rd Qu.:3.410  \n",
       " twelve:  1   Max.   :326.0   4bbl   : 3   Max.   :3.94   Max.   :4.170  \n",
       " two   :  4                   (Other): 2   NA's   :4      NA's   :4      \n",
       "      V21             V22             V23            V24             V25       \n",
       " Min.   : 7.00   Min.   : 48.0   Min.   :4150   Min.   :13.00   Min.   :16.00  \n",
       " 1st Qu.: 8.60   1st Qu.: 70.0   1st Qu.:4800   1st Qu.:19.00   1st Qu.:25.00  \n",
       " Median : 9.00   Median : 95.0   Median :5200   Median :24.00   Median :30.00  \n",
       " Mean   :10.14   Mean   :104.3   Mean   :5125   Mean   :25.22   Mean   :30.75  \n",
       " 3rd Qu.: 9.40   3rd Qu.:116.0   3rd Qu.:5500   3rd Qu.:30.00   3rd Qu.:34.00  \n",
       " Max.   :23.00   Max.   :288.0   Max.   :6600   Max.   :49.00   Max.   :54.00  \n",
       "                 NA's   :2       NA's   :2                                     \n",
       "      V26       \n",
       " Min.   : 5118  \n",
       " 1st Qu.: 7775  \n",
       " Median :10295  \n",
       " Mean   :13207  \n",
       " 3rd Qu.:16500  \n",
       " Max.   :45400  \n",
       " NA's   :4      "
      ]
     },
     "metadata": {},
     "output_type": "display_data"
    }
   ],
   "source": [
    "summary(df)"
   ]
  },
  {
   "cell_type": "markdown",
   "metadata": {},
   "source": [
    "3. Qué dimensión tiene el dataframe?"
   ]
  },
  {
   "cell_type": "code",
   "execution_count": 8,
   "metadata": {},
   "outputs": [
    {
     "data": {
      "text/html": [
       "<ol class=list-inline>\n",
       "\t<li>205</li>\n",
       "\t<li>26</li>\n",
       "</ol>\n"
      ],
      "text/latex": [
       "\\begin{enumerate*}\n",
       "\\item 205\n",
       "\\item 26\n",
       "\\end{enumerate*}\n"
      ],
      "text/markdown": [
       "1. 205\n",
       "2. 26\n",
       "\n",
       "\n"
      ],
      "text/plain": [
       "[1] 205  26"
      ]
     },
     "metadata": {},
     "output_type": "display_data"
    }
   ],
   "source": [
    "dim(df)"
   ]
  },
  {
   "cell_type": "markdown",
   "metadata": {},
   "source": [
    "4. Inspecciona los datos, de qué clase es cada tipo? Extrae los distintos valores que toman los factores."
   ]
  },
  {
   "cell_type": "code",
   "execution_count": 20,
   "metadata": {},
   "outputs": [
    {
     "data": {
      "text/html": [
       "<ol class=list-inline>\n",
       "\t<li>3</li>\n",
       "\t<li>1</li>\n",
       "\t<li>2</li>\n",
       "\t<li>0</li>\n",
       "\t<li>-1</li>\n",
       "\t<li>-2</li>\n",
       "</ol>\n"
      ],
      "text/latex": [
       "\\begin{enumerate*}\n",
       "\\item 3\n",
       "\\item 1\n",
       "\\item 2\n",
       "\\item 0\n",
       "\\item -1\n",
       "\\item -2\n",
       "\\end{enumerate*}\n"
      ],
      "text/markdown": [
       "1. 3\n",
       "2. 1\n",
       "3. 2\n",
       "4. 0\n",
       "5. -1\n",
       "6. -2\n",
       "\n",
       "\n"
      ],
      "text/plain": [
       "[1]  3  1  2  0 -1 -2"
      ]
     },
     "metadata": {},
     "output_type": "display_data"
    },
    {
     "name": "stdout",
     "output_type": "stream",
     "text": [
      "[1]  3  1  2  0 -1 -2\n",
      " [1]  NA 164 158 192 188 121  98  81 118 148 110 145 137 101  78 106  85 107 104\n",
      "[20] 113 150 129 115  93 142 161 153 125 128 122 103 168 108 194 231 119 154  74\n",
      "[39] 186  83 102  89  87  77  91 134  65 197  90  94 256  95\n",
      " [1] alfa-romero   audi          bmw           chevrolet     dodge        \n",
      " [6] honda         isuzu         jaguar        mazda         mercedes-benz\n",
      "[11] mercury       mitsubishi    nissan        peugot        plymouth     \n",
      "[16] porsche       renault       saab          subaru        toyota       \n",
      "[21] volkswagen    volvo        \n",
      "22 Levels: alfa-romero audi bmw chevrolet dodge honda isuzu jaguar ... volvo\n",
      "[1] gas    diesel\n",
      "Levels: diesel gas\n",
      "[1] std   turbo\n",
      "Levels: std turbo\n",
      "[1] two  four <NA>\n",
      "Levels: four two\n",
      "[1] convertible hatchback   sedan       wagon       hardtop    \n",
      "Levels: convertible hardtop hatchback sedan wagon\n",
      "[1] rwd fwd 4wd\n",
      "Levels: 4wd fwd rwd\n",
      "[1] front rear \n",
      "Levels: front rear\n",
      " [1]  88.6  94.5  99.8  99.4 105.8  99.5 101.2 103.5 110.0  88.4  93.7 103.3\n",
      "[13]  95.9  86.6  96.5  94.3  96.0 113.0 102.0  93.1  95.3  98.8 104.9 106.7\n",
      "[25] 115.6  96.6 120.9 112.0 102.7  93.0  96.3  95.1  97.2 100.4  91.3  99.2\n",
      "[37] 107.9 114.2 108.0  89.5  98.4  96.1  99.1  93.3  97.0  96.9  95.7 102.4\n",
      "[49] 102.9 104.5  97.3 104.3 109.1\n"
     ]
    }
   ],
   "source": [
    "unique(df$V1)\n",
    "f <- which(sapply(df, class) == 'factor')\n",
    "for (i in 1:length(f)){\n",
    "    print(unique(df[,i]))\n",
    "}"
   ]
  },
  {
   "cell_type": "markdown",
   "metadata": {},
   "source": [
    "5. Indica la proporción de valores faltantes por columna usando sum e is.na y un apply (usa nrow)."
   ]
  },
  {
   "cell_type": "code",
   "execution_count": 25,
   "metadata": {},
   "outputs": [
    {
     "data": {
      "text/html": [
       "<dl class=dl-horizontal>\n",
       "\t<dt>V1</dt>\n",
       "\t\t<dd>0</dd>\n",
       "\t<dt>V2</dt>\n",
       "\t\t<dd>20</dd>\n",
       "\t<dt>V3</dt>\n",
       "\t\t<dd>0</dd>\n",
       "\t<dt>V4</dt>\n",
       "\t\t<dd>0</dd>\n",
       "\t<dt>V5</dt>\n",
       "\t\t<dd>0</dd>\n",
       "\t<dt>V6</dt>\n",
       "\t\t<dd>0.975609756097561</dd>\n",
       "\t<dt>V7</dt>\n",
       "\t\t<dd>0</dd>\n",
       "\t<dt>V8</dt>\n",
       "\t\t<dd>0</dd>\n",
       "\t<dt>V9</dt>\n",
       "\t\t<dd>0</dd>\n",
       "\t<dt>V10</dt>\n",
       "\t\t<dd>0</dd>\n",
       "\t<dt>V11</dt>\n",
       "\t\t<dd>0</dd>\n",
       "\t<dt>V12</dt>\n",
       "\t\t<dd>0</dd>\n",
       "\t<dt>V13</dt>\n",
       "\t\t<dd>0</dd>\n",
       "\t<dt>V14</dt>\n",
       "\t\t<dd>0</dd>\n",
       "\t<dt>V15</dt>\n",
       "\t\t<dd>0</dd>\n",
       "\t<dt>V16</dt>\n",
       "\t\t<dd>0</dd>\n",
       "\t<dt>V17</dt>\n",
       "\t\t<dd>0</dd>\n",
       "\t<dt>V18</dt>\n",
       "\t\t<dd>0</dd>\n",
       "\t<dt>V19</dt>\n",
       "\t\t<dd>1.95121951219512</dd>\n",
       "\t<dt>V20</dt>\n",
       "\t\t<dd>1.95121951219512</dd>\n",
       "\t<dt>V21</dt>\n",
       "\t\t<dd>0</dd>\n",
       "\t<dt>V22</dt>\n",
       "\t\t<dd>0.975609756097561</dd>\n",
       "\t<dt>V23</dt>\n",
       "\t\t<dd>0.975609756097561</dd>\n",
       "\t<dt>V24</dt>\n",
       "\t\t<dd>0</dd>\n",
       "\t<dt>V25</dt>\n",
       "\t\t<dd>0</dd>\n",
       "\t<dt>V26</dt>\n",
       "\t\t<dd>1.95121951219512</dd>\n",
       "</dl>\n"
      ],
      "text/latex": [
       "\\begin{description*}\n",
       "\\item[V1] 0\n",
       "\\item[V2] 20\n",
       "\\item[V3] 0\n",
       "\\item[V4] 0\n",
       "\\item[V5] 0\n",
       "\\item[V6] 0.975609756097561\n",
       "\\item[V7] 0\n",
       "\\item[V8] 0\n",
       "\\item[V9] 0\n",
       "\\item[V10] 0\n",
       "\\item[V11] 0\n",
       "\\item[V12] 0\n",
       "\\item[V13] 0\n",
       "\\item[V14] 0\n",
       "\\item[V15] 0\n",
       "\\item[V16] 0\n",
       "\\item[V17] 0\n",
       "\\item[V18] 0\n",
       "\\item[V19] 1.95121951219512\n",
       "\\item[V20] 1.95121951219512\n",
       "\\item[V21] 0\n",
       "\\item[V22] 0.975609756097561\n",
       "\\item[V23] 0.975609756097561\n",
       "\\item[V24] 0\n",
       "\\item[V25] 0\n",
       "\\item[V26] 1.95121951219512\n",
       "\\end{description*}\n"
      ],
      "text/markdown": [
       "V1\n",
       ":   0V2\n",
       ":   20V3\n",
       ":   0V4\n",
       ":   0V5\n",
       ":   0V6\n",
       ":   0.975609756097561V7\n",
       ":   0V8\n",
       ":   0V9\n",
       ":   0V10\n",
       ":   0V11\n",
       ":   0V12\n",
       ":   0V13\n",
       ":   0V14\n",
       ":   0V15\n",
       ":   0V16\n",
       ":   0V17\n",
       ":   0V18\n",
       ":   0V19\n",
       ":   1.95121951219512V20\n",
       ":   1.95121951219512V21\n",
       ":   0V22\n",
       ":   0.975609756097561V23\n",
       ":   0.975609756097561V24\n",
       ":   0V25\n",
       ":   0V26\n",
       ":   1.95121951219512\n",
       "\n"
      ],
      "text/plain": [
       "        V1         V2         V3         V4         V5         V6         V7 \n",
       " 0.0000000 20.0000000  0.0000000  0.0000000  0.0000000  0.9756098  0.0000000 \n",
       "        V8         V9        V10        V11        V12        V13        V14 \n",
       " 0.0000000  0.0000000  0.0000000  0.0000000  0.0000000  0.0000000  0.0000000 \n",
       "       V15        V16        V17        V18        V19        V20        V21 \n",
       " 0.0000000  0.0000000  0.0000000  0.0000000  1.9512195  1.9512195  0.0000000 \n",
       "       V22        V23        V24        V25        V26 \n",
       " 0.9756098  0.9756098  0.0000000  0.0000000  1.9512195 "
      ]
     },
     "metadata": {},
     "output_type": "display_data"
    }
   ],
   "source": [
    "apply(is.na(df), 2, sum) / nrow(df) * 100"
   ]
  },
  {
   "cell_type": "markdown",
   "metadata": {},
   "source": [
    "6. Edita la primera columna llevándola al rango 0-5."
   ]
  },
  {
   "cell_type": "code",
   "execution_count": 33,
   "metadata": {},
   "outputs": [],
   "source": [
    "df$V1 <- df$V1 + 2"
   ]
  },
  {
   "cell_type": "code",
   "execution_count": 34,
   "metadata": {},
   "outputs": [
    {
     "data": {
      "text/html": [
       "0"
      ],
      "text/latex": [
       "0"
      ],
      "text/markdown": [
       "0"
      ],
      "text/plain": [
       "[1] 0"
      ]
     },
     "metadata": {},
     "output_type": "display_data"
    },
    {
     "data": {
      "text/html": [
       "5"
      ],
      "text/latex": [
       "5"
      ],
      "text/markdown": [
       "5"
      ],
      "text/plain": [
       "[1] 5"
      ]
     },
     "metadata": {},
     "output_type": "display_data"
    }
   ],
   "source": [
    "min(df$V1)\n",
    "max(df$V1)"
   ]
  },
  {
   "cell_type": "markdown",
   "metadata": {},
   "source": [
    "7. Da una media de los valores de la primera columna respecto a la columna de número de puertas del coche."
   ]
  },
  {
   "cell_type": "code",
   "execution_count": 36,
   "metadata": {},
   "outputs": [],
   "source": [
    "col1 <- df$V1\n",
    "doors <- df$V6"
   ]
  },
  {
   "cell_type": "code",
   "execution_count": 37,
   "metadata": {},
   "outputs": [
    {
     "data": {
      "text/html": [
       "<dl class=dl-horizontal>\n",
       "\t<dt>four</dt>\n",
       "\t\t<dd>2.10526315789474</dd>\n",
       "\t<dt>two</dt>\n",
       "\t\t<dd>3.7752808988764</dd>\n",
       "</dl>\n"
      ],
      "text/latex": [
       "\\begin{description*}\n",
       "\\item[four] 2.10526315789474\n",
       "\\item[two] 3.7752808988764\n",
       "\\end{description*}\n"
      ],
      "text/markdown": [
       "four\n",
       ":   2.10526315789474two\n",
       ":   3.7752808988764\n",
       "\n"
      ],
      "text/plain": [
       "    four      two \n",
       "2.105263 3.775281 "
      ]
     },
     "metadata": {},
     "output_type": "display_data"
    }
   ],
   "source": [
    "tapply(col1, doors, mean)"
   ]
  },
  {
   "cell_type": "markdown",
   "metadata": {},
   "source": [
    "8. Extrae los coches audi que son cuatro puertas con valor V13 menor que 55"
   ]
  },
  {
   "cell_type": "code",
   "execution_count": 41,
   "metadata": {},
   "outputs": [
    {
     "data": {
      "text/html": [
       "<table>\n",
       "<caption>A data.frame: 2 × 26</caption>\n",
       "<thead>\n",
       "\t<tr><th></th><th scope=col>V1</th><th scope=col>V2</th><th scope=col>V3</th><th scope=col>V4</th><th scope=col>V5</th><th scope=col>V6</th><th scope=col>V7</th><th scope=col>V8</th><th scope=col>V9</th><th scope=col>V10</th><th scope=col>⋯</th><th scope=col>V17</th><th scope=col>V18</th><th scope=col>V19</th><th scope=col>V20</th><th scope=col>V21</th><th scope=col>V22</th><th scope=col>V23</th><th scope=col>V24</th><th scope=col>V25</th><th scope=col>V26</th></tr>\n",
       "\t<tr><th></th><th scope=col>&lt;dbl&gt;</th><th scope=col>&lt;int&gt;</th><th scope=col>&lt;fct&gt;</th><th scope=col>&lt;fct&gt;</th><th scope=col>&lt;fct&gt;</th><th scope=col>&lt;fct&gt;</th><th scope=col>&lt;fct&gt;</th><th scope=col>&lt;fct&gt;</th><th scope=col>&lt;fct&gt;</th><th scope=col>&lt;dbl&gt;</th><th scope=col>⋯</th><th scope=col>&lt;int&gt;</th><th scope=col>&lt;fct&gt;</th><th scope=col>&lt;dbl&gt;</th><th scope=col>&lt;dbl&gt;</th><th scope=col>&lt;dbl&gt;</th><th scope=col>&lt;int&gt;</th><th scope=col>&lt;int&gt;</th><th scope=col>&lt;int&gt;</th><th scope=col>&lt;int&gt;</th><th scope=col>&lt;int&gt;</th></tr>\n",
       "</thead>\n",
       "<tbody>\n",
       "\t<tr><th scope=row>4</th><td>4</td><td>164</td><td>audi</td><td>gas</td><td>std</td><td>four</td><td>sedan</td><td>fwd</td><td>front</td><td>99.8</td><td>⋯</td><td>109</td><td>mpfi</td><td>3.19</td><td>3.4</td><td>10</td><td>102</td><td>5500</td><td>24</td><td>30</td><td>13950</td></tr>\n",
       "\t<tr><th scope=row>5</th><td>4</td><td>164</td><td>audi</td><td>gas</td><td>std</td><td>four</td><td>sedan</td><td>4wd</td><td>front</td><td>99.4</td><td>⋯</td><td>136</td><td>mpfi</td><td>3.19</td><td>3.4</td><td> 8</td><td>115</td><td>5500</td><td>18</td><td>22</td><td>17450</td></tr>\n",
       "</tbody>\n",
       "</table>\n"
      ],
      "text/latex": [
       "A data.frame: 2 × 26\n",
       "\\begin{tabular}{r|llllllllllllllllllllllllll}\n",
       "  & V1 & V2 & V3 & V4 & V5 & V6 & V7 & V8 & V9 & V10 & V11 & V12 & V13 & V14 & V15 & V16 & V17 & V18 & V19 & V20 & V21 & V22 & V23 & V24 & V25 & V26\\\\\n",
       "  & <dbl> & <int> & <fct> & <fct> & <fct> & <fct> & <fct> & <fct> & <fct> & <dbl> & <dbl> & <dbl> & <dbl> & <int> & <fct> & <fct> & <int> & <fct> & <dbl> & <dbl> & <dbl> & <int> & <int> & <int> & <int> & <int>\\\\\n",
       "\\hline\n",
       "\t4 & 4 & 164 & audi & gas & std & four & sedan & fwd & front & 99.8 & 176.6 & 66.2 & 54.3 & 2337 & ohc & four & 109 & mpfi & 3.19 & 3.4 & 10 & 102 & 5500 & 24 & 30 & 13950\\\\\n",
       "\t5 & 4 & 164 & audi & gas & std & four & sedan & 4wd & front & 99.4 & 176.6 & 66.4 & 54.3 & 2824 & ohc & five & 136 & mpfi & 3.19 & 3.4 &  8 & 115 & 5500 & 18 & 22 & 17450\\\\\n",
       "\\end{tabular}\n"
      ],
      "text/markdown": [
       "\n",
       "A data.frame: 2 × 26\n",
       "\n",
       "| <!--/--> | V1 &lt;dbl&gt; | V2 &lt;int&gt; | V3 &lt;fct&gt; | V4 &lt;fct&gt; | V5 &lt;fct&gt; | V6 &lt;fct&gt; | V7 &lt;fct&gt; | V8 &lt;fct&gt; | V9 &lt;fct&gt; | V10 &lt;dbl&gt; | ⋯ ⋯ | V17 &lt;int&gt; | V18 &lt;fct&gt; | V19 &lt;dbl&gt; | V20 &lt;dbl&gt; | V21 &lt;dbl&gt; | V22 &lt;int&gt; | V23 &lt;int&gt; | V24 &lt;int&gt; | V25 &lt;int&gt; | V26 &lt;int&gt; |\n",
       "|---|---|---|---|---|---|---|---|---|---|---|---|---|---|---|---|---|---|---|---|---|---|\n",
       "| 4 | 4 | 164 | audi | gas | std | four | sedan | fwd | front | 99.8 | ⋯ | 109 | mpfi | 3.19 | 3.4 | 10 | 102 | 5500 | 24 | 30 | 13950 |\n",
       "| 5 | 4 | 164 | audi | gas | std | four | sedan | 4wd | front | 99.4 | ⋯ | 136 | mpfi | 3.19 | 3.4 |  8 | 115 | 5500 | 18 | 22 | 17450 |\n",
       "\n"
      ],
      "text/plain": [
       "  V1 V2  V3   V4  V5  V6   V7    V8  V9    V10  ⋯ V17 V18  V19  V20 V21 V22\n",
       "4 4  164 audi gas std four sedan fwd front 99.8 ⋯ 109 mpfi 3.19 3.4 10  102\n",
       "5 4  164 audi gas std four sedan 4wd front 99.4 ⋯ 136 mpfi 3.19 3.4  8  115\n",
       "  V23  V24 V25 V26  \n",
       "4 5500 24  30  13950\n",
       "5 5500 18  22  17450"
      ]
     },
     "metadata": {},
     "output_type": "display_data"
    }
   ],
   "source": [
    "df[df$V3 == 'audi' & df$V6 == 'four' & df$V13 < 55,]"
   ]
  }
 ],
 "metadata": {
  "kernelspec": {
   "display_name": "R",
   "language": "R",
   "name": "ir"
  },
  "language_info": {
   "codemirror_mode": "r",
   "file_extension": ".r",
   "mimetype": "text/x-r-source",
   "name": "R",
   "pygments_lexer": "r",
   "version": "3.4.4"
  }
 },
 "nbformat": 4,
 "nbformat_minor": 2
}
