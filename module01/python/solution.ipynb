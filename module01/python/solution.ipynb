{
 "cells": [
  {
   "cell_type": "markdown",
   "metadata": {},
   "source": [
    "## Encoding text"
   ]
  },
  {
   "cell_type": "code",
   "execution_count": 5,
   "metadata": {},
   "outputs": [],
   "source": [
    "alphabet = list(\"ABCDEFGHIJKLMNOPQRSTUVWXYZ\")"
   ]
  },
  {
   "cell_type": "code",
   "execution_count": 6,
   "metadata": {},
   "outputs": [],
   "source": [
    "def search_new_letter(letter, pos):\n",
    "    idx = alphabet.index(letter)\n",
    "    if ((len(alphabet) - 1) - idx) >= pos:\n",
    "        return alphabet[idx + pos]\n",
    "    else:\n",
    "        return alphabet[pos - (len(alphabet) - idx)]"
   ]
  },
  {
   "cell_type": "code",
   "execution_count": 7,
   "metadata": {},
   "outputs": [],
   "source": [
    "def encode_text(text, num_pos):\n",
    "    words_list = text.split(\" \")\n",
    "    words_encode_list = []\n",
    "    for word in words_list:\n",
    "        letters = list(word)\n",
    "        i = 0\n",
    "        for letter in letters:\n",
    "            if letter.isalpha():\n",
    "                letters[i] = search_new_letter(letter, num_pos)\n",
    "            i += 1\n",
    "        new_word = \"\".join(letters)\n",
    "        words_encode_list.append(new_word)\n",
    "    return \" \".join(words_encode_list)"
   ]
  },
  {
   "cell_type": "code",
   "execution_count": 8,
   "metadata": {},
   "outputs": [
    {
     "name": "stdout",
     "output_type": "stream",
     "text": [
      "Enter a text to encode: Lenguage Python\n",
      "Enter the number of positions for move each letter: 3\n",
      "\n",
      "The text endoce is: <<OHQJXDJH SBWKRQ>>\n"
     ]
    }
   ],
   "source": [
    "text = False\n",
    "num_pos = False\n",
    "while True:\n",
    "    if not text or len(text) == 0:\n",
    "        text = input(\"Enter a text to encode: \")\n",
    "        continue\n",
    "    if not num_pos or not num_pos.isdigit():\n",
    "        num_pos = input(\"Enter the number of positions for move each letter: \")\n",
    "        continue\n",
    "    break\n",
    "e_text = encode_text(text.upper(), int(num_pos))\n",
    "print(\"\\nThe text endoce is: <<{}>>\".format(e_text))"
   ]
  },
  {
   "cell_type": "code",
   "execution_count": null,
   "metadata": {},
   "outputs": [],
   "source": []
  }
 ],
 "metadata": {
  "kernelspec": {
   "display_name": "Python 3",
   "language": "python",
   "name": "python3"
  },
  "language_info": {
   "codemirror_mode": {
    "name": "ipython",
    "version": 3
   },
   "file_extension": ".py",
   "mimetype": "text/x-python",
   "name": "python",
   "nbconvert_exporter": "python",
   "pygments_lexer": "ipython3",
   "version": "3.6.7"
  }
 },
 "nbformat": 4,
 "nbformat_minor": 2
}
