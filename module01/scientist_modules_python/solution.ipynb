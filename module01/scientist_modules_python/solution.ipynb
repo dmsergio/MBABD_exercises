{
 "cells": [
  {
   "cell_type": "code",
   "execution_count": 1,
   "metadata": {},
   "outputs": [],
   "source": [
    "import pandas as pd\n",
    "import numpy as np"
   ]
  },
  {
   "cell_type": "code",
   "execution_count": 11,
   "metadata": {},
   "outputs": [
    {
     "name": "stdout",
     "output_type": "stream",
     "text": [
      "Men salaries:\n",
      "Euskadi      2500\n",
      "Murcia       1800\n",
      "Madrid       1900\n",
      "Barcelona    2000\n",
      "Zaragoza     2100\n",
      "dtype: int64\n",
      "\n",
      "Women salaries:\n",
      "Euskadi      2300\n",
      "Murcia       1600\n",
      "Madrid       1980\n",
      "Barcelona    1900\n",
      "Córdoba      2150\n",
      "dtype: int64\n"
     ]
    }
   ],
   "source": [
    "# 1\n",
    "men_salary = pd.Series(\n",
    "    [2500, 1800, 1900, 2000, 2100],\n",
    "    index=[\"Euskadi\", \"Murcia\", \"Madrid\", \"Barcelona\", \"Zaragoza\"])\n",
    "women_salary = pd.Series(\n",
    "    [2300, 1600, 1980, 1900, 2150],\n",
    "    index=[\"Euskadi\", \"Murcia\", \"Madrid\", \"Barcelona\", \"Córdoba\"])\n",
    "print('Men salaries:\\n{}\\n'.format(men_salary))\n",
    "print('Women salaries:\\n{}'.format(women_salary))"
   ]
  },
  {
   "cell_type": "code",
   "execution_count": 13,
   "metadata": {},
   "outputs": [
    {
     "data": {
      "text/plain": [
       "Barcelona    100.0\n",
       "Córdoba        NaN\n",
       "Euskadi      200.0\n",
       "Madrid       -80.0\n",
       "Murcia       200.0\n",
       "Zaragoza       NaN\n",
       "dtype: float64"
      ]
     },
     "execution_count": 13,
     "metadata": {},
     "output_type": "execute_result"
    }
   ],
   "source": [
    "# 2\n",
    "difference_btw_salaries = men_salary - women_salary\n",
    "difference_btw_salaries"
   ]
  },
  {
   "cell_type": "code",
   "execution_count": 25,
   "metadata": {},
   "outputs": [
    {
     "data": {
      "text/plain": [
       "Euskadi    200.0\n",
       "Murcia     200.0\n",
       "dtype: float64"
      ]
     },
     "execution_count": 25,
     "metadata": {},
     "output_type": "execute_result"
    }
   ],
   "source": [
    "# 3\n",
    "difference_btw_salaries[difference_btw_salaries > 100]"
   ]
  }
 ],
 "metadata": {
  "kernelspec": {
   "display_name": "Python 3",
   "language": "python",
   "name": "python3"
  },
  "language_info": {
   "codemirror_mode": {
    "name": "ipython",
    "version": 3
   },
   "file_extension": ".py",
   "mimetype": "text/x-python",
   "name": "python",
   "nbconvert_exporter": "python",
   "pygments_lexer": "ipython3",
   "version": "3.6.7"
  }
 },
 "nbformat": 4,
 "nbformat_minor": 2
}
