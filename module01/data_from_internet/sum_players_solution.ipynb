{
 "cells": [
  {
   "cell_type": "code",
   "execution_count": 1,
   "metadata": {},
   "outputs": [],
   "source": [
    "import csv"
   ]
  },
  {
   "cell_type": "code",
   "execution_count": 2,
   "metadata": {},
   "outputs": [],
   "source": [
    "# read and prepare the csv file\n",
    "csv_file = open(\"PitchingPost.csv\")\n",
    "data_raw = csv.reader(csv_file)\n",
    "data_list = list(data_raw)"
   ]
  },
  {
   "cell_type": "code",
   "execution_count": 4,
   "metadata": {},
   "outputs": [],
   "source": [
    "# group the players in a dictionary\n",
    "out_list = {}\n",
    "for row in data_list[1:]:\n",
    "    if row[0] in out_list:\n",
    "        out_list[row[0]] = out_list[row[0]] + 1\n",
    "    else:\n",
    "        out_list[row[0]] = 1"
   ]
  },
  {
   "cell_type": "code",
   "execution_count": 5,
   "metadata": {},
   "outputs": [],
   "source": [
    "# transform the dictionary to list\n",
    "player_count_list = [['Jugador', 'Frecuencia']]\n",
    "for player in out_list:\n",
    "    player_count_list.append([player, out_list[player]])"
   ]
  },
  {
   "cell_type": "code",
   "execution_count": 6,
   "metadata": {},
   "outputs": [],
   "source": [
    "csv_file.close()"
   ]
  },
  {
   "cell_type": "code",
   "execution_count": 7,
   "metadata": {},
   "outputs": [],
   "source": [
    "# write the list of lists into csv file\n",
    "file_out = open(\"AcumJugadores.csv\", \"a\")\n",
    "file_writer = csv.writer(file_out)\n",
    "for row in player_count_list:\n",
    "    file_writer.writerow(row)\n",
    "file_out.close()"
   ]
  },
  {
   "cell_type": "code",
   "execution_count": null,
   "metadata": {},
   "outputs": [],
   "source": []
  }
 ],
 "metadata": {
  "kernelspec": {
   "display_name": "Python 3",
   "language": "python",
   "name": "python3"
  },
  "language_info": {
   "codemirror_mode": {
    "name": "ipython",
    "version": 3
   },
   "file_extension": ".py",
   "mimetype": "text/x-python",
   "name": "python",
   "nbconvert_exporter": "python",
   "pygments_lexer": "ipython3",
   "version": "3.6.7"
  }
 },
 "nbformat": 4,
 "nbformat_minor": 2
}
